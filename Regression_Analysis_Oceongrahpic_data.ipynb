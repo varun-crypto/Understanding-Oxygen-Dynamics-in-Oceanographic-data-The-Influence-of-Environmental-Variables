{
 "cells": [
  {
   "cell_type": "markdown",
   "metadata": {},
   "source": [
    "**Understanding Oxygen Dynamics in Oceanographic data : The Influence of Environmental Variables**"
   ]
  },
  {
   "cell_type": "markdown",
   "metadata": {},
   "source": [
    "**By:\n",
    "Varun Mallela**"
   ]
  },
  {
   "cell_type": "markdown",
   "metadata": {},
   "source": [
    "This research investigates the complex relationships between various oceanographic variables and oxygen concentration within the California Current Ecosystem. Using a subset of the California Cooperative Oceanic Fisheries Investigations (CalCOFI) dataset spanning 2017-2021, I have employed statistical regression techniques to understand how factors such as depth, temperature, salinity, and nutrients influence oxygen dynamics in this region. This analysis builds upon the rich historical CalCOFI dataset collected from 1949-2021. A sample from 2017-2021 was used due to the large size of data in the original dataset which contains records from 1949."
   ]
  },
  {
   "cell_type": "markdown",
   "metadata": {},
   "source": [
    "Overall Research on:\n",
    "\n",
    "- To investigate relationships between oxygen concentration in oceanographic data and physical and nutrient features through regression modelling."
   ]
  },
  {
   "cell_type": "markdown",
   "metadata": {},
   "source": [
    "### Main problems to be answered in this research:\n",
    "\n",
    "1) Clean the dataset\n",
    "2) Check for multi collinearity between independent variables.\n",
    "3) Investigate relationships between oxygen concentraion and physical and nutrient features by performing multiple linear regression\n",
    "4) Check if depth is a significant predictor for response variable - oxygen concentration using t-test and values from regression summary\n",
    "5) Perform a statistical hypothesis test to see if there a significant relationship between any of the predictors (Depthm, T_degC, Salnty, SiO3uM, Phaeop, NO2uM, and NH3uM) and the dissolved oxygen levels (O2ml_L) in seawater - Use ANOVA\n",
    "6) Perform Diagnostics for the regression model - Residuals, goodness of fit, feature selection.\n",
    "7) Use model selection with various performance metrics like AIC, BIC, MSPE, R^2 and adj R^2 and select best model.\n",
    "\n"
   ]
  },
  {
   "cell_type": "markdown",
   "metadata": {},
   "source": [
    "### **Data Cleaning**"
   ]
  },
  {
   "cell_type": "markdown",
   "metadata": {},
   "source": [
    "Before starting the cleaning process, I want to filter out the rows in my main dataset to only include in the year range 2017-2021. To do this, I'm using another dataset from same source, which has a common key 'Cst_Cnt' with my main dataset and also it has year column. So, the idea is to merge the datasets and filter."
   ]
  },
  {
   "cell_type": "code",
   "execution_count": 268,
   "metadata": {
    "colab": {
     "base_uri": "https://localhost:8080/"
    },
    "id": "FeeG7VK51A8z",
    "outputId": "eb77d6a7-cb55-4235-faed-358bdcf31afb",
    "vscode": {
     "languageId": "r"
    }
   },
   "outputs": [],
   "source": [
    "# Importing Libraries for cleaning\n",
    "library(dplyr)   # For data manipulation\n",
    "library(readr)   # For reading CSV files\n"
   ]
  },
  {
   "cell_type": "code",
   "execution_count": 269,
   "metadata": {},
   "outputs": [],
   "source": [
    " options(warn = -1) # ignoring warnings"
   ]
  },
  {
   "cell_type": "code",
   "execution_count": 270,
   "metadata": {
    "colab": {
     "base_uri": "https://localhost:8080/"
    },
    "id": "Fr5jLFKq2uuz",
    "outputId": "1d0205c8-c050-41a6-ba3f-11276a8bbfad",
    "vscode": {
     "languageId": "r"
    }
   },
   "outputs": [],
   "source": [
    "bottle_df <- read_csv(\"Bottle.csv\",show_col_types = FALSE) # reading the main dataset"
   ]
  },
  {
   "cell_type": "code",
   "execution_count": 271,
   "metadata": {
    "colab": {
     "base_uri": "https://localhost:8080/"
    },
    "id": "xGC1w0Ly2GZ2",
    "outputId": "c34e170e-cf5f-4bd6-faa9-4a5e4ad8ca2a",
    "vscode": {
     "languageId": "r"
    }
   },
   "outputs": [],
   "source": [
    "cast_df <- read_csv(\"Cast.csv\",show_col_types = FALSE) # importing another dataset which contains year values"
   ]
  },
  {
   "cell_type": "code",
   "execution_count": 272,
   "metadata": {
    "id": "TvUOBoNE4pJy",
    "vscode": {
     "languageId": "r"
    }
   },
   "outputs": [],
   "source": [
    "filtered_cast <- cast_df %>%\n",
    "  filter(Year >= 2017 & Year <= 2021) %>%\n",
    "  select(Cst_Cnt, Year)  # Keep only these columns\n"
   ]
  },
  {
   "cell_type": "markdown",
   "metadata": {},
   "source": [
    "Here in the above code, we are filtering columns with year values between 2017-2021."
   ]
  },
  {
   "cell_type": "code",
   "execution_count": 273,
   "metadata": {
    "id": "6e2xPiaT4yxB",
    "vscode": {
     "languageId": "r"
    }
   },
   "outputs": [],
   "source": [
    "merged_df <- merge(bottle_df, filtered_cast, by = \"Cst_Cnt\") # merging the two datasets.\n"
   ]
  },
  {
   "cell_type": "code",
   "execution_count": 274,
   "metadata": {
    "colab": {
     "base_uri": "https://localhost:8080/",
     "height": 164
    },
    "id": "Fnt6ZCLp4z_Y",
    "outputId": "0de6f721-1d8d-48dd-fdbe-2b489e5d99ad",
    "vscode": {
     "languageId": "r"
    }
   },
   "outputs": [
    {
     "data": {
      "text/html": [
       "<table class=\"dataframe\">\n",
       "<caption>A data.frame: 1 × 1</caption>\n",
       "<thead>\n",
       "\t<tr><th scope=col>n</th></tr>\n",
       "\t<tr><th scope=col>&lt;int&gt;</th></tr>\n",
       "</thead>\n",
       "<tbody>\n",
       "\t<tr><td>30508</td></tr>\n",
       "</tbody>\n",
       "</table>\n"
      ],
      "text/latex": [
       "A data.frame: 1 × 1\n",
       "\\begin{tabular}{l}\n",
       " n\\\\\n",
       " <int>\\\\\n",
       "\\hline\n",
       "\t 30508\\\\\n",
       "\\end{tabular}\n"
      ],
      "text/markdown": [
       "\n",
       "A data.frame: 1 × 1\n",
       "\n",
       "| n &lt;int&gt; |\n",
       "|---|\n",
       "| 30508 |\n",
       "\n"
      ],
      "text/plain": [
       "  n    \n",
       "1 30508"
      ]
     },
     "metadata": {},
     "output_type": "display_data"
    }
   ],
   "source": [
    "count(merged_df)"
   ]
  },
  {
   "cell_type": "markdown",
   "metadata": {},
   "source": [
    "We can see that we have a total of 30508 values to work with our analysis."
   ]
  },
  {
   "cell_type": "code",
   "execution_count": 275,
   "metadata": {},
   "outputs": [
    {
     "name": "stdout",
     "output_type": "stream",
     "text": [
      "'data.frame':\t30508 obs. of  63 variables:\n",
      " $ Cst_Cnt            : num  34405 34405 34405 34405 34405 ...\n",
      " $ Btl_Cnt            : num  864864 864865 864866 864867 864868 ...\n",
      " $ Sta_ID             : chr  \"063.3 052.0\" \"063.3 052.0\" \"063.3 052.0\" \"063.3 052.0\" ...\n",
      " $ Depth_ID           : chr  \"20-1701RL-MX-027-1949-06330520-0000A-7\" \"20-1701RL-MX-027-1949-06330520-0010A-7\" \"20-1701RL-MX-027-1949-06330520-0020A-7\" \"20-1701RL-MX-027-1949-06330520-0030A-7\" ...\n",
      " $ Depthm             : num  0 10 20 30 50 75 0 10 20 30 ...\n",
      " $ T_degC             : num  12.3 12.3 12.2 12.3 12.2 ...\n",
      " $ Salnty             : num  33.2 33.2 33.2 33.2 33.3 ...\n",
      " $ O2ml_L             : num  5.92 5.92 5.88 5.8 5.34 ...\n",
      " $ STheta             : num  25.1 25.1 25.1 25.1 25.2 ...\n",
      " $ O2Sat              : num  97.3 97.2 96.6 95.3 87.7 ...\n",
      " $ Oxy_µmol/Kg        : num  258 258 256 253 233 ...\n",
      " $ BtlNum             : num  NA NA NA NA NA NA NA NA NA NA ...\n",
      " $ RecInd             : num  7 7 7 7 7 7 7 7 7 7 ...\n",
      " $ T_prec             : num  2 2 2 2 2 2 2 2 2 2 ...\n",
      " $ T_qual             : num  NA NA NA NA NA NA NA NA NA NA ...\n",
      " $ S_prec             : num  3 3 3 3 3 3 3 3 3 3 ...\n",
      " $ S_qual             : num  6 6 6 6 6 6 6 6 6 6 ...\n",
      " $ P_qual             : num  NA NA NA NA NA NA NA NA NA NA ...\n",
      " $ O_qual             : num  6 6 6 6 6 6 6 6 6 6 ...\n",
      " $ SThtaq             : num  6 6 6 6 6 6 6 6 6 6 ...\n",
      " $ O2Satq             : num  6 6 6 6 6 6 6 6 6 6 ...\n",
      " $ ChlorA             : num  NA NA NA NA NA NA NA NA NA NA ...\n",
      " $ Chlqua             : num  9 9 9 9 9 9 9 9 9 9 ...\n",
      " $ Phaeop             : num  NA NA NA NA NA NA NA NA NA NA ...\n",
      " $ Phaqua             : num  9 9 9 9 9 9 9 9 9 9 ...\n",
      " $ PO4uM              : num  NA NA NA NA NA NA NA NA NA NA ...\n",
      " $ PO4q               : num  9 9 9 9 9 9 9 9 9 9 ...\n",
      " $ SiO3uM             : num  NA NA NA NA NA NA NA NA NA NA ...\n",
      " $ SiO3qu             : num  9 9 9 9 9 9 9 9 9 9 ...\n",
      " $ NO2uM              : num  NA NA NA NA NA NA NA NA NA NA ...\n",
      " $ NO2q               : num  9 9 9 9 9 9 9 9 9 9 ...\n",
      " $ NO3uM              : num  NA NA NA NA NA NA NA NA NA NA ...\n",
      " $ NO3q               : num  9 9 9 9 9 9 9 9 9 9 ...\n",
      " $ NH3uM              : num  NA NA NA NA NA NA NA NA NA NA ...\n",
      " $ NH3q               : num  9 9 9 9 9 9 9 9 9 9 ...\n",
      " $ C14As1             : num  NA NA NA NA NA NA NA NA NA NA ...\n",
      " $ C14A1p             : num  NA NA NA NA NA NA NA NA NA NA ...\n",
      " $ C14A1q             : num  9 9 9 9 9 9 9 9 9 9 ...\n",
      " $ C14As2             : num  NA NA NA NA NA NA NA NA NA NA ...\n",
      " $ C14A2p             : num  NA NA NA NA NA NA NA NA NA NA ...\n",
      " $ C14A2q             : num  9 9 9 9 9 9 9 9 9 9 ...\n",
      " $ DarkAs             : num  NA NA NA NA NA NA NA NA NA NA ...\n",
      " $ DarkAp             : num  NA NA NA NA NA NA NA NA NA NA ...\n",
      " $ DarkAq             : num  9 9 9 9 9 9 9 9 9 9 ...\n",
      " $ MeanAs             : num  NA NA NA NA NA NA NA NA NA NA ...\n",
      " $ MeanAp             : num  NA NA NA NA NA NA NA NA NA NA ...\n",
      " $ MeanAq             : num  9 9 9 9 9 9 9 9 9 9 ...\n",
      " $ IncTim             : 'hms' num  NA NA NA NA ...\n",
      "  ..- attr(*, \"units\")= chr \"secs\"\n",
      " $ LightP             : num  NA NA NA NA NA NA NA NA NA NA ...\n",
      " $ R_Depth            : num  0 10 20 30 50 76 0 10 20 30 ...\n",
      " $ R_TEMP             : num  12.3 12.3 12.2 12.3 12.2 ...\n",
      " $ R_Sal              : num  283 283 283 282 274 ...\n",
      " $ R_DYNHT            : num  0 0.014 0.043 0.071 0.127 0.194 0 0.014 0.043 0.071 ...\n",
      " $ R_Nuts             : num  NA NA NA NA NA NA NA NA NA NA ...\n",
      " $ R_Oxy_µmol/Kg      : num  258 258 256 253 233 ...\n",
      " $ DIC1               : num  NA NA NA NA NA NA NA NA NA NA ...\n",
      " $ DIC2               : logi  NA NA NA NA NA NA ...\n",
      " $ TA1                : num  NA NA NA NA NA NA NA NA NA NA ...\n",
      " $ TA2                : logi  NA NA NA NA NA NA ...\n",
      " $ pH1                : logi  NA NA NA NA NA NA ...\n",
      " $ pH2                : logi  NA NA NA NA NA NA ...\n",
      " $ DIC Quality Comment: logi  NA NA NA NA NA NA ...\n",
      " $ Year               : num  2017 2017 2017 2017 2017 ...\n"
     ]
    }
   ],
   "source": [
    "str(merged_df)"
   ]
  },
  {
   "cell_type": "markdown",
   "metadata": {},
   "source": [
    "From the above code, we can see all the variables present in my dataset, my main foucus is to take 'O2ml_L' which is milliliters of dissolved oxygen per liter seawater as my dependent variable and do my regression analysis. Many variables in my dataset are unnecessary for my analysis, most of the variables are either quality codes or index variables. So, I plan to first remove the variables no needed for my analysis."
   ]
  },
  {
   "cell_type": "code",
   "execution_count": 276,
   "metadata": {
    "id": "WIwS7LQn_5Wg",
    "vscode": {
     "languageId": "r"
    }
   },
   "outputs": [],
   "source": [
    "keep_cols <- c(\"Depthm\", \"T_degC\", \"Salnty\", \"PO4uM\", \"SiO3uM\", \"NO3uM\", \"O2ml_L\",'Phaeop', 'NO2uM', 'NH3uM')\n",
    "\n",
    "# Drop unnecessary columns\n",
    "merged_df <- merged_df %>% select(all_of(keep_cols))"
   ]
  },
  {
   "cell_type": "markdown",
   "metadata": {},
   "source": [
    "I have choosen the following variables for my analysis: \n",
    "\n",
    "**Core Physical Factors**:\n",
    "\n",
    "Depthm (Depth in meters)\n",
    "T_degC (Temperature of water)\n",
    "Salnty (Salinity of water\n",
    ")\n",
    "\n",
    "**Nutrients**:\n",
    "\n",
    "PO4µM Phosphate concentratione)\n",
    "SiO3µM (Silicat concentratione)\n",
    "NO3µM (Nitrat concentratione)\n",
    "Phaeo (Phaeophytin concentration measured fluorometrically)p\n",
    "NO2u (Nitrite concentration\n",
    ")M\n",
    "NH3 (Ammonium concentration\n",
    ")uM\n"
   ]
  },
  {
   "cell_type": "code",
   "execution_count": 277,
   "metadata": {
    "colab": {
     "base_uri": "https://localhost:8080/"
    },
    "id": "lwakEFeQ8WPm",
    "outputId": "b5ec57cd-f933-4584-a79f-976303aa3a1c",
    "vscode": {
     "languageId": "r"
    }
   },
   "outputs": [
    {
     "name": "stdout",
     "output_type": "stream",
     "text": [
      " [1] \"Depthm\" \"T_degC\" \"Salnty\" \"PO4uM\"  \"SiO3uM\" \"NO3uM\"  \"O2ml_L\" \"Phaeop\"\n",
      " [9] \"NO2uM\"  \"NH3uM\" \n"
     ]
    }
   ],
   "source": [
    "print(colnames(merged_df))  # This will output a character vector of column names\n"
   ]
  },
  {
   "cell_type": "markdown",
   "metadata": {},
   "source": [
    "Now, first I will be checking for missing values"
   ]
  },
  {
   "cell_type": "code",
   "execution_count": 278,
   "metadata": {
    "colab": {
     "base_uri": "https://localhost:8080/"
    },
    "id": "xN5IpCTzBITr",
    "outputId": "cc38c3df-35bf-40ec-e6e6-f0ba505a11ba",
    "vscode": {
     "languageId": "r"
    }
   },
   "outputs": [
    {
     "name": "stdout",
     "output_type": "stream",
     "text": [
      "Depthm T_degC Salnty  PO4uM SiO3uM  NO3uM O2ml_L Phaeop  NO2uM  NH3uM \n",
      "     0      6      2   2916   2914   2913   1079  10114   3642   4981 \n"
     ]
    }
   ],
   "source": [
    "missing_counts <- colSums(is.na(merged_df))\n",
    "print(missing_counts)"
   ]
  },
  {
   "cell_type": "markdown",
   "metadata": {},
   "source": [
    "We can see from the above output that, variables temperature and salinity have vary less missing values, so I plan to remove rows of missing values of these variables.\n",
    "\n",
    "For other nutrient variables, there are quite a number of missing values, I plan to check for skewness and decide which type of imputation method (mean/mode) to use to fix those missing values."
   ]
  },
  {
   "cell_type": "code",
   "execution_count": 279,
   "metadata": {
    "colab": {
     "base_uri": "https://localhost:8080/",
     "height": 434
    },
    "id": "2coE9W3hMITx",
    "outputId": "785d870e-0f9a-4379-ecd1-149924b25adb",
    "vscode": {
     "languageId": "r"
    }
   },
   "outputs": [
    {
     "data": {
      "text/plain": [
       "     Depthm          T_degC           Salnty           PO4uM      \n",
       " Min.   :  0.0   Min.   : 4.757   Min.   : 9.501   Min.   :0.000  \n",
       " 1st Qu.: 30.0   1st Qu.: 8.292   1st Qu.:33.453   1st Qu.:0.330  \n",
       " Median :100.0   Median :10.572   Median :33.672   Median :1.485  \n",
       " Mean   :154.5   Mean   :11.361   Mean   :33.501   Mean   :1.459  \n",
       " 3rd Qu.:250.0   3rd Qu.:14.325   3rd Qu.:34.056   3rd Qu.:2.380  \n",
       " Max.   :751.0   Max.   :99.000   Max.   :34.403   Max.   :4.110  \n",
       "                 NA's   :6        NA's   :2        NA's   :2916   \n",
       "     SiO3uM           NO3uM           O2ml_L             Phaeop      \n",
       " Min.   :  0.00   Min.   : 0.00   Min.   :-200.222   Min.   :-1.899  \n",
       " 1st Qu.:  2.44   1st Qu.: 0.57   1st Qu.:   1.761   1st Qu.: 0.049  \n",
       " Median : 17.83   Median :18.59   Median :   3.669   Median : 0.108  \n",
       " Mean   : 24.88   Mean   :17.37   Mean   :   3.577   Mean   : 0.186  \n",
       " 3rd Qu.: 41.70   3rd Qu.:30.50   3rd Qu.:   5.617   3rd Qu.: 0.232  \n",
       " Max.   :113.24   Max.   :43.08   Max.   :   9.539   Max.   : 4.037  \n",
       " NA's   :2914     NA's   :2913    NA's   :1079       NA's   :10114   \n",
       "     NO2uM           NH3uM       \n",
       " Min.   :0.000   Min.   : 0.000  \n",
       " 1st Qu.:0.000   1st Qu.: 0.000  \n",
       " Median :0.000   Median : 0.000  \n",
       " Mean   :0.037   Mean   : 0.063  \n",
       " 3rd Qu.:0.034   3rd Qu.: 0.000  \n",
       " Max.   :1.289   Max.   :33.580  \n",
       " NA's   :3642    NA's   :4981    "
      ]
     },
     "metadata": {},
     "output_type": "display_data"
    }
   ],
   "source": [
    "summary(merged_df)"
   ]
  },
  {
   "cell_type": "markdown",
   "metadata": {},
   "source": [
    "Before proceeding I have printed the summary statistics of all variables, later I will make to compare this statistics after cleaning to ensure there was no major change."
   ]
  },
  {
   "cell_type": "code",
   "execution_count": 280,
   "metadata": {
    "id": "zDPUeJXDIhU0",
    "vscode": {
     "languageId": "r"
    }
   },
   "outputs": [],
   "source": [
    "library(dplyr)\n",
    "\n",
    "merged_df <- merged_df %>%\n",
    "  filter(!is.na(T_degC) & !is.na(Salnty))\n"
   ]
  },
  {
   "cell_type": "markdown",
   "metadata": {},
   "source": [
    "I have removed null values from temperature and salinity variables."
   ]
  },
  {
   "cell_type": "code",
   "execution_count": 281,
   "metadata": {
    "id": "yw4eVJngJn-J",
    "vscode": {
     "languageId": "r"
    }
   },
   "outputs": [],
   "source": [
    "library(dplyr)\n",
    "\n",
    "merged_df <- merged_df %>%\n",
    "   filter(O2ml_L > 0) %>%\n",
    "   filter(Phaeop > 0)\n"
   ]
  },
  {
   "cell_type": "markdown",
   "metadata": {},
   "source": [
    "I have removed negative values from oxygen concentration and Phaeophytin concentration columns"
   ]
  },
  {
   "cell_type": "markdown",
   "metadata": {},
   "source": [
    "**Checking For Skewness For nutrient variables uisng density plots**"
   ]
  },
  {
   "cell_type": "code",
   "execution_count": 282,
   "metadata": {
    "colab": {
     "base_uri": "https://localhost:8080/",
     "height": 1000
    },
    "id": "MN5JSZbwDekq",
    "outputId": "ff1e1a86-c7de-4223-dd65-83d8891ce3e2",
    "vscode": {
     "languageId": "r"
    }
   },
   "outputs": [
    {
     "data": {
      "image/png": "[encoded data removed]",
      "text/plain": [
       "plot without title"
      ]
     },
     "metadata": {
      "image/png": {
       "height": 420,
       "width": 420
      }
     },
     "output_type": "display_data"
    },
    {
     "data": {
      "image/png": "[encoded data removed]",
      "text/plain": [
       "plot without title"
      ]
     },
     "metadata": {
      "image/png": {
       "height": 420,
       "width": 420
      }
     },
     "output_type": "display_data"
    },
    {
     "data": {
      "image/png": "[encoded data removed]",
      "text/plain": [
       "plot without title"
      ]
     },
     "metadata": {
      "image/png": {
       "height": 420,
       "width": 420
      }
     },
     "output_type": "display_data"
    },
    {
     "data": {
      "image/png": "[encoded data removed]",
      "text/plain": [
       "plot without title"
      ]
     },
     "metadata": {
      "image/png": {
       "height": 420,
       "width": 420
      }
     },
     "output_type": "display_data"
    },
    {
     "data": {
      "image/png": "[encoded data removed]",
      "text/plain": [
       "plot without title"
      ]
     },
     "metadata": {
      "image/png": {
       "height": 420,
       "width": 420
      }
     },
     "output_type": "display_data"
    },
    {
     "data": {
      "image/png": "[encoded data removed]",
      "text/plain": [
       "plot without title"
      ]
     },
     "metadata": {
      "image/png": {
       "height": 420,
       "width": 420
      }
     },
     "output_type": "display_data"
    },
    {
     "data": {
      "image/png": "[encoded data removed]",
      "text/plain": [
       "plot without title"
      ]
     },
     "metadata": {
      "image/png": {
       "height": 420,
       "width": 420
      }
     },
     "output_type": "display_data"
    }
   ],
   "source": [
    "library(ggplot2)\n",
    "\n",
    "# List of variables to plot\n",
    "variables <- c(\"PO4uM\" ,\"SiO3uM\" ,\"NO3uM\",  \"O2ml_L\", \"Phaeop\", 'NO2uM',  'NH3uM')\n",
    "\n",
    "# Creating individual plots for each variable\n",
    "for (var in variables) {\n",
    "  plot <- ggplot(merged_df, aes(x = .data[[var]])) +\n",
    "    geom_density()+\n",
    "    labs(x = var, y = \"Count\") +\n",
    "    theme_minimal()\n",
    "\n",
    "  print(plot)\n",
    "}\n",
    "\n"
   ]
  },
  {
   "cell_type": "markdown",
   "metadata": {},
   "source": [
    "From the above plots we can see that all these variables are skewed and dont follow a normal distribution, so I will be using median for my imputation methods"
   ]
  },
  {
   "cell_type": "code",
   "execution_count": 283,
   "metadata": {
    "colab": {
     "base_uri": "https://localhost:8080/",
     "height": 381
    },
    "id": "EJCnJK68L6Cs",
    "outputId": "1b475989-c5dc-488b-f0f7-8a6a20669f9a",
    "vscode": {
     "languageId": "r"
    }
   },
   "outputs": [
    {
     "data": {
      "text/plain": [
       "     Depthm           T_degC           Salnty          PO4uM      \n",
       " Min.   :  0.00   Min.   : 7.636   Min.   :24.19   Min.   :0.000  \n",
       " 1st Qu.: 20.00   1st Qu.:10.071   1st Qu.:33.39   1st Qu.:0.270  \n",
       " Median : 61.00   Median :12.612   Median :33.55   Median :0.680  \n",
       " Mean   : 72.85   Mean   :12.883   Mean   :33.32   Mean   :0.912  \n",
       " 3rd Qu.:121.00   3rd Qu.:15.163   3rd Qu.:33.74   3rd Qu.:1.550  \n",
       " Max.   :204.00   Max.   :23.145   Max.   :34.32   Max.   :3.560  \n",
       "     SiO3uM           NO3uM            O2ml_L          Phaeop      \n",
       " Min.   :  0.00   Min.   : 0.000   Min.   :0.915   Min.   :0.0010  \n",
       " 1st Qu.:  1.82   1st Qu.: 0.050   1st Qu.:3.424   1st Qu.:0.0490  \n",
       " Median :  5.95   Median : 5.980   Median :5.209   Median :0.1080  \n",
       " Mean   : 10.97   Mean   : 9.778   Mean   :4.616   Mean   :0.1867  \n",
       " 3rd Qu.: 19.22   3rd Qu.:19.648   3rd Qu.:5.763   3rd Qu.:0.2320  \n",
       " Max.   :109.47   Max.   :34.000   Max.   :9.539   Max.   :4.0370  \n",
       "     NO2uM             NH3uM         \n",
       " Min.   :0.00000   Min.   : 0.00000  \n",
       " 1st Qu.:0.00000   1st Qu.: 0.00000  \n",
       " Median :0.01600   Median : 0.00000  \n",
       " Mean   :0.04938   Mean   : 0.07306  \n",
       " 3rd Qu.:0.05000   3rd Qu.: 0.02000  \n",
       " Max.   :1.28900   Max.   :33.58000  "
      ]
     },
     "metadata": {},
     "output_type": "display_data"
    }
   ],
   "source": [
    "# install.packages(\"tidyverse\")\n",
    "\n",
    "# Load the dplyr package\n",
    "library(dplyr)\n",
    "\n",
    "# Replace missing values with the median for the specified columns\n",
    "merged_df <- merged_df %>%\n",
    "  mutate(\n",
    "    PO4uM = ifelse(is.na(PO4uM), median(PO4uM, na.rm = TRUE), PO4uM),\n",
    "    SiO3uM = ifelse(is.na(SiO3uM), median(SiO3uM, na.rm = TRUE), SiO3uM),\n",
    "    NO3uM = ifelse(is.na(NO3uM), median(NO3uM, na.rm = TRUE), NO3uM),\n",
    "    O2ml_L = ifelse(is.na(O2ml_L), median(O2ml_L, na.rm = TRUE), O2ml_L),\n",
    "    Phaeop = ifelse(is.na(Phaeop), median(Phaeop, na.rm = TRUE), Phaeop),\n",
    "    NO2uM  = ifelse(is.na(NO2uM), median(NO2uM, na.rm = TRUE), NO2uM),\n",
    "    NH3uM  = ifelse(is.na(NH3uM), median(NH3uM, na.rm = TRUE), NH3uM)\n",
    "  )\n",
    "\n",
    "# Checking the summary to confirm changes\n",
    "summary(merged_df)\n"
   ]
  },
  {
   "cell_type": "markdown",
   "metadata": {},
   "source": [
    "Due to the presence of skewness I have replaced null values in these nutrient columns with median. I have printed summary statistics to check if there was any significant changes after imputation. From the summary I can say that there was not a significant change after imputation."
   ]
  },
  {
   "cell_type": "markdown",
   "metadata": {},
   "source": [
    "From the summary statistics, we can see that for some columns there are some maximum values which are unrealistic, so I decided to remove them."
   ]
  },
  {
   "cell_type": "code",
   "execution_count": 284,
   "metadata": {
    "id": "tVJJb0nwz_1b",
    "vscode": {
     "languageId": "r"
    }
   },
   "outputs": [],
   "source": [
    "# Removing very large values, possible error values due to very high unrealistic values\n",
    "merged_df <- subset(merged_df, SiO3uM != 109.47 )\n",
    "merged_df <- subset(merged_df,  NH3uM  != 33.58000 )\n",
    "merged_df <- subset(merged_df,  NO3uM  != 34.000 )\n",
    "merged_df <- subset(merged_df,  Depthm  != 204.00 )"
   ]
  },
  {
   "cell_type": "code",
   "execution_count": 285,
   "metadata": {},
   "outputs": [
    {
     "data": {
      "text/html": [
       "<table class=\"dataframe\">\n",
       "<caption>A data.frame: 6 × 10</caption>\n",
       "<thead>\n",
       "\t<tr><th></th><th scope=col>Depthm</th><th scope=col>T_degC</th><th scope=col>Salnty</th><th scope=col>PO4uM</th><th scope=col>SiO3uM</th><th scope=col>NO3uM</th><th scope=col>O2ml_L</th><th scope=col>Phaeop</th><th scope=col>NO2uM</th><th scope=col>NH3uM</th></tr>\n",
       "\t<tr><th></th><th scope=col>&lt;dbl&gt;</th><th scope=col>&lt;dbl&gt;</th><th scope=col>&lt;dbl&gt;</th><th scope=col>&lt;dbl&gt;</th><th scope=col>&lt;dbl&gt;</th><th scope=col>&lt;dbl&gt;</th><th scope=col>&lt;dbl&gt;</th><th scope=col>&lt;dbl&gt;</th><th scope=col>&lt;dbl&gt;</th><th scope=col>&lt;dbl&gt;</th></tr>\n",
       "</thead>\n",
       "<tbody>\n",
       "\t<tr><th scope=row>1</th><td> 0</td><td>13.013</td><td>33.3230</td><td>0.73</td><td>7.43</td><td>5.80</td><td>5.615</td><td>0.486</td><td>0.245</td><td>0.08</td></tr>\n",
       "\t<tr><th scope=row>2</th><td> 1</td><td>13.013</td><td>33.3230</td><td>0.73</td><td>7.43</td><td>5.80</td><td>5.615</td><td>0.486</td><td>0.245</td><td>0.08</td></tr>\n",
       "\t<tr><th scope=row>3</th><td> 6</td><td>13.010</td><td>33.3200</td><td>0.73</td><td>7.36</td><td>5.73</td><td>5.633</td><td>0.366</td><td>0.244</td><td>0.14</td></tr>\n",
       "\t<tr><th scope=row>4</th><td>10</td><td>13.001</td><td>33.3268</td><td>0.73</td><td>7.45</td><td>5.87</td><td>5.620</td><td>0.425</td><td>0.246</td><td>0.15</td></tr>\n",
       "\t<tr><th scope=row>5</th><td>20</td><td>12.913</td><td>33.3374</td><td>0.74</td><td>7.69</td><td>6.19</td><td>5.504</td><td>0.409</td><td>0.253</td><td>0.20</td></tr>\n",
       "\t<tr><th scope=row>6</th><td>30</td><td>12.883</td><td>33.3468</td><td>0.77</td><td>7.82</td><td>6.40</td><td>5.439</td><td>0.424</td><td>0.260</td><td>0.22</td></tr>\n",
       "</tbody>\n",
       "</table>\n"
      ],
      "text/latex": [
       "A data.frame: 6 × 10\n",
       "\\begin{tabular}{r|llllllllll}\n",
       "  & Depthm & T\\_degC & Salnty & PO4uM & SiO3uM & NO3uM & O2ml\\_L & Phaeop & NO2uM & NH3uM\\\\\n",
       "  & <dbl> & <dbl> & <dbl> & <dbl> & <dbl> & <dbl> & <dbl> & <dbl> & <dbl> & <dbl>\\\\\n",
       "\\hline\n",
       "\t1 &  0 & 13.013 & 33.3230 & 0.73 & 7.43 & 5.80 & 5.615 & 0.486 & 0.245 & 0.08\\\\\n",
       "\t2 &  1 & 13.013 & 33.3230 & 0.73 & 7.43 & 5.80 & 5.615 & 0.486 & 0.245 & 0.08\\\\\n",
       "\t3 &  6 & 13.010 & 33.3200 & 0.73 & 7.36 & 5.73 & 5.633 & 0.366 & 0.244 & 0.14\\\\\n",
       "\t4 & 10 & 13.001 & 33.3268 & 0.73 & 7.45 & 5.87 & 5.620 & 0.425 & 0.246 & 0.15\\\\\n",
       "\t5 & 20 & 12.913 & 33.3374 & 0.74 & 7.69 & 6.19 & 5.504 & 0.409 & 0.253 & 0.20\\\\\n",
       "\t6 & 30 & 12.883 & 33.3468 & 0.77 & 7.82 & 6.40 & 5.439 & 0.424 & 0.260 & 0.22\\\\\n",
       "\\end{tabular}\n"
      ],
      "text/markdown": [
       "\n",
       "A data.frame: 6 × 10\n",
       "\n",
       "| <!--/--> | Depthm &lt;dbl&gt; | T_degC &lt;dbl&gt; | Salnty &lt;dbl&gt; | PO4uM &lt;dbl&gt; | SiO3uM &lt;dbl&gt; | NO3uM &lt;dbl&gt; | O2ml_L &lt;dbl&gt; | Phaeop &lt;dbl&gt; | NO2uM &lt;dbl&gt; | NH3uM &lt;dbl&gt; |\n",
       "|---|---|---|---|---|---|---|---|---|---|---|\n",
       "| 1 |  0 | 13.013 | 33.3230 | 0.73 | 7.43 | 5.80 | 5.615 | 0.486 | 0.245 | 0.08 |\n",
       "| 2 |  1 | 13.013 | 33.3230 | 0.73 | 7.43 | 5.80 | 5.615 | 0.486 | 0.245 | 0.08 |\n",
       "| 3 |  6 | 13.010 | 33.3200 | 0.73 | 7.36 | 5.73 | 5.633 | 0.366 | 0.244 | 0.14 |\n",
       "| 4 | 10 | 13.001 | 33.3268 | 0.73 | 7.45 | 5.87 | 5.620 | 0.425 | 0.246 | 0.15 |\n",
       "| 5 | 20 | 12.913 | 33.3374 | 0.74 | 7.69 | 6.19 | 5.504 | 0.409 | 0.253 | 0.20 |\n",
       "| 6 | 30 | 12.883 | 33.3468 | 0.77 | 7.82 | 6.40 | 5.439 | 0.424 | 0.260 | 0.22 |\n",
       "\n"
      ],
      "text/plain": [
       "  Depthm T_degC Salnty  PO4uM SiO3uM NO3uM O2ml_L Phaeop NO2uM NH3uM\n",
       "1  0     13.013 33.3230 0.73  7.43   5.80  5.615  0.486  0.245 0.08 \n",
       "2  1     13.013 33.3230 0.73  7.43   5.80  5.615  0.486  0.245 0.08 \n",
       "3  6     13.010 33.3200 0.73  7.36   5.73  5.633  0.366  0.244 0.14 \n",
       "4 10     13.001 33.3268 0.73  7.45   5.87  5.620  0.425  0.246 0.15 \n",
       "5 20     12.913 33.3374 0.74  7.69   6.19  5.504  0.409  0.253 0.20 \n",
       "6 30     12.883 33.3468 0.77  7.82   6.40  5.439  0.424  0.260 0.22 "
      ]
     },
     "metadata": {},
     "output_type": "display_data"
    }
   ],
   "source": [
    "head(merged_df)"
   ]
  },
  {
   "cell_type": "markdown",
   "metadata": {},
   "source": [
    "The cleaning process is completed and, we can the see the head of the final dataset which will be now used for regression analysis."
   ]
  },
  {
   "cell_type": "markdown",
   "metadata": {},
   "source": [
    "### **Regression Modelling**"
   ]
  },
  {
   "cell_type": "markdown",
   "metadata": {},
   "source": [
    "Assumption of Regression Model:\n",
    "\n",
    "1) Linearity - There must be a linear relationship between the response variable and the independent variables. \n",
    "\n",
    "2) Multivariate Normality - We assume that residuals are normally distributed.\n",
    "\n",
    "3) No Multicollinearity - We assume that the independent variable are not highly correlated with each other.\n",
    "\n",
    "4) Homoscedasticity - We assume that the variance of error terms is similar across the values of the independent variables."
   ]
  },
  {
   "cell_type": "code",
   "execution_count": 286,
   "metadata": {
    "colab": {
     "base_uri": "https://localhost:8080/"
    },
    "id": "9fQcLctUsZQa",
    "outputId": "37653d31-c636-4343-c16b-a866fd35832a",
    "vscode": {
     "languageId": "r"
    }
   },
   "outputs": [
    {
     "name": "stdout",
     "output_type": "stream",
     "text": [
      "There are 16238 rows and 10 columns in the training set. There are 4060 rows and 10 columns in the testing set."
     ]
    }
   ],
   "source": [
    "set.seed(145764)\n",
    "n = floor(0.8 * nrow(merged_df)) #find the number corresponding to 80% of the data\n",
    "index = sample(seq_len(nrow(merged_df)), size = n) #randomly sample indicies to be included in the training set\n",
    "\n",
    "train = merged_df[index, ] #set the training set to be the randomly sampled rows of the dataframe\n",
    "test = merged_df[-index, ] #set the testing set to be the remaining rows\n",
    "cat(\"There are\", dim(train)[1], \"rows and\",dim(train)[2],\"columns in the training set. \")  #checking the dimensions\n",
    "cat(\"There are\", dim(test)[1], \"rows and\",dim(test)[2],\"columns in the testing set.\")  #checking the dimensions"
   ]
  },
  {
   "cell_type": "markdown",
   "metadata": {},
   "source": [
    "To start of the regression modelling, I have first randomly split my dataset into train and split set, with 80% of the data for training and 20% of data for testing."
   ]
  },
  {
   "cell_type": "markdown",
   "metadata": {},
   "source": [
    "In my analysis, I will first of check for presence of multicollinearity and remove it to ensure proper results i.e to ensure statistical significance of independent variables"
   ]
  },
  {
   "cell_type": "markdown",
   "metadata": {},
   "source": [
    "Correlation Plot"
   ]
  },
  {
   "cell_type": "code",
   "execution_count": 287,
   "metadata": {},
   "outputs": [],
   "source": [
    "install.packages(\"corrplot\")"
   ]
  },
  {
   "cell_type": "code",
   "execution_count": 288,
   "metadata": {
    "colab": {
     "base_uri": "https://localhost:8080/",
     "height": 72
    },
    "id": "VvWDdhq41KGs",
    "outputId": "bc457936-24e4-4e01-bbff-cd5f50e46934",
    "vscode": {
     "languageId": "r"
    }
   },
   "outputs": [
    {
     "data": {
      "image/png": "[encoded data removed]",
      "text/plain": [
       "Plot with title \"\""
      ]
     },
     "metadata": {
      "image/png": {
       "height": 420,
       "width": 420
      }
     },
     "output_type": "display_data"
    }
   ],
   "source": [
    "library('corrplot')\n",
    "col4 = colorRampPalette(c(\"black\", \"darkgrey\", \"grey\",\"#CFB87C\"))\n",
    "corrplot(cor(merged_df[,-8]), method = \"ellipse\", col = col4(100),  addCoef.col = \"black\", tl.col = \"black\")"
   ]
  },
  {
   "cell_type": "markdown",
   "metadata": {},
   "source": [
    "I have then plotted a correlation, plot to understand which independent variables are correleted among each other. From the plot I can see that the variables 'PO4uM', 'NO3uM', and 'SiO3uM' exihibt high correlation between other variables. This arries a problem of multicollinearity. To verify this futher and to decide whether to keep these variables I will be using VIF values. "
   ]
  },
  {
   "cell_type": "code",
   "execution_count": 289,
   "metadata": {},
   "outputs": [],
   "source": [
    "model <- lm(O2ml_L ~ Depthm +T_degC\t+ Salnty +PO4uM+SiO3uM+\tNO3uM+Phaeop+NO2uM+NH3uM, data = train)"
   ]
  },
  {
   "cell_type": "markdown",
   "metadata": {},
   "source": [
    "I have use lm function to model a multiple linear regression model with oxygen concentration beign my dependent variable."
   ]
  },
  {
   "cell_type": "code",
   "execution_count": 290,
   "metadata": {
    "colab": {
     "base_uri": "https://localhost:8080/"
    },
    "id": "9kG06DSb0TXB",
    "outputId": "fbedd06e-e991-44bc-e533-6ba44b4279ff",
    "vscode": {
     "languageId": "r"
    }
   },
   "outputs": [
    {
     "name": "stdout",
     "output_type": "stream",
     "text": [
      "[1] \"VIFs:\"\n",
      "    Depthm     T_degC     Salnty      PO4uM     SiO3uM      NO3uM     Phaeop \n",
      "  4.379273   6.482290   1.046232 136.878649  31.502541 104.245633   1.482422 \n",
      "     NO2uM      NH3uM \n",
      "  1.543590   1.240594 \n"
     ]
    }
   ],
   "source": [
    "library(car)\n",
    "\n",
    "\n",
    "calculate_vifs <- function(model) {\n",
    "  vif(model)\n",
    "}\n",
    "\n",
    "vifs <- calculate_vifs(model)\n",
    "cond_number <- kappa(model)\n",
    "\n",
    "\n",
    "print(\"VIFs:\")\n",
    "print(vifs)"
   ]
  },
  {
   "cell_type": "markdown",
   "metadata": {},
   "source": [
    "From the above VIF values we can see the all the mentioned above variables - 'PO4uM', 'NO3uM', and 'SiO3uM'  have very high values than normal threshold. So I plan to remove 2 of these values and check again, so I will be removing -  'PO4uM', 'NO3uM' since these variables have VIF values more than 100."
   ]
  },
  {
   "cell_type": "code",
   "execution_count": 291,
   "metadata": {
    "id": "QdplLdjuM4lB",
    "vscode": {
     "languageId": "r"
    }
   },
   "outputs": [],
   "source": [
    "model <- lm(O2ml_L ~ Depthm + T_degC + Salnty + SiO3uM + Phaeop\t+ NO2uM\t+ NH3uM , data = train)"
   ]
  },
  {
   "cell_type": "code",
   "execution_count": 293,
   "metadata": {},
   "outputs": [
    {
     "name": "stdout",
     "output_type": "stream",
     "text": [
      "[1] \"VIFs:\"\n",
      "  Depthm   T_degC   Salnty   SiO3uM   Phaeop    NO2uM    NH3uM \n",
      "4.079090 4.167353 1.034154 3.312954 1.426863 1.490178 1.226217 \n"
     ]
    }
   ],
   "source": [
    "vifs <- calculate_vifs(model)\n",
    "cond_number <- kappa(model)\n",
    "\n",
    "\n",
    "print(\"VIFs:\")\n",
    "print(vifs)"
   ]
  },
  {
   "cell_type": "markdown",
   "metadata": {},
   "source": [
    "After removing the two variables, we can see from the above output that all the VIF values are below 5, so we can say that there no collinearity present here according to the above results."
   ]
  },
  {
   "cell_type": "markdown",
   "metadata": {},
   "source": [
    "Now let's, focus on this new model let's see its summary."
   ]
  },
  {
   "cell_type": "code",
   "execution_count": 294,
   "metadata": {},
   "outputs": [
    {
     "data": {
      "text/plain": [
       "\n",
       "Call:\n",
       "lm(formula = O2ml_L ~ Depthm + T_degC + Salnty + SiO3uM + Phaeop + \n",
       "    NO2uM + NH3uM, data = train)\n",
       "\n",
       "Residuals:\n",
       "    Min      1Q  Median      3Q     Max \n",
       "-3.7665 -0.2659  0.0344  0.3043  8.0885 \n",
       "\n",
       "Coefficients:\n",
       "              Estimate Std. Error  t value Pr(>|t|)    \n",
       "(Intercept)  6.4449114  0.1014648   63.519   <2e-16 ***\n",
       "Depthm      -0.0023178  0.0001356  -17.098   <2e-16 ***\n",
       "T_degC       0.0649608  0.0026139   24.852   <2e-16 ***\n",
       "Salnty      -0.0483205  0.0028386  -17.023   <2e-16 ***\n",
       "SiO3uM      -0.0865234  0.0006587 -131.361   <2e-16 ***\n",
       "Phaeop       0.3314825  0.0198599   16.691   <2e-16 ***\n",
       "NO2uM       -0.0897524  0.0526548   -1.705   0.0883 .  \n",
       "NH3uM        0.0141123  0.0142852    0.988   0.3232    \n",
       "---\n",
       "Signif. codes:  0 '***' 0.001 '**' 0.01 '*' 0.05 '.' 0.1 ' ' 1\n",
       "\n",
       "Residual standard error: 0.5051 on 16230 degrees of freedom\n",
       "Multiple R-squared:  0.8603,\tAdjusted R-squared:  0.8602 \n",
       "F-statistic: 1.428e+04 on 7 and 16230 DF,  p-value: < 2.2e-16\n"
      ]
     },
     "metadata": {},
     "output_type": "display_data"
    }
   ],
   "source": [
    "summary(model)"
   ]
  },
  {
   "cell_type": "markdown",
   "metadata": {},
   "source": [
    "The above summary suggest that 86% of variance dissolved in oxygen levels is explained by the model. We can see that all the predictors except 'NO2uM' and 'NH3uM' are statistically very good predictors with the response variable - O2ml_L i.e. oxygen concentration."
   ]
  },
  {
   "cell_type": "markdown",
   "metadata": {},
   "source": [
    "### **Hypothesis Test - t test**"
   ]
  },
  {
   "cell_type": "markdown",
   "metadata": {},
   "source": [
    "Let's verify this by using t -test with to check if Depthm is a significant predictor for the response variable - O2ml_L."
   ]
  },
  {
   "cell_type": "markdown",
   "metadata": {},
   "source": [
    "\n",
    "\n",
    "### Step 1: Formulate Hypotheses\n",
    "- **Null Hypothesis (H₀)**: The coefficient for `Depthm` is equal to zero ($\\beta_{Depthm} = 0$),\n",
    "    this implyes that there is no significant relationship between `Depthm` and `O2ml_L`.\n",
    "  \n",
    "- **Alternative Hypothesis (H₁)**: The coefficient for `Depthm` is not equal to zero ($\\beta_{Depthm} \\neq 0$), this implies that there is a significant relationship between `Depthm` and `O2ml_L`.\n",
    "\n",
    "Significance level : 0.05\n",
    "\n",
    "### Step 2: Calculating the Test Statistic\n",
    "The t-statistic can be calculated using the formula:\n",
    "$$\n",
    "t = \\frac{\\hat{\\beta}_{Depthm}}{SE_{\\beta_{Depthm}}}\n",
    "$$\n",
    "\n",
    "From the regression summary we have:\n",
    "- $\\hat{\\beta}_{Depthm} = -0.0023178$\n",
    "- $SE_{\\beta_{Depthm}} = 0.0001356$\n",
    "\n",
    "$$\n",
    "t = \\frac{-0.0023178}{0.0001356} \\approx -17.098\n",
    "$$\n",
    "\n",
    "### Step 3: Determining the Degrees of Freedom\n",
    "The degrees of freedom (df) for the test can calculated as $$ n - p - 1 $$, where:\n",
    "- $$n = 16238$$ (total number of observations)\n",
    "- $$p = 7$$ (number of predictors)\n",
    "\n",
    "$\n",
    "df = 16230\n",
    "$\n",
    "\n",
    "### Step 4: Determining the Critical Value and p-value\n",
    "With $$df = 16230$$, the p-value for `Depthm`is given in summary of regression model:\n",
    "\n",
    "- **p-value**: $<2e-16$, which is extremely small.\n",
    "\n",
    "### Step 5: Conclusion\n",
    "Based on the p-value, which is much smaller significance level 0.05 we reject the null hypothesis. This indicates that there is a statistically significant relationship between `Depthm` and `O2ml_L`. \n",
    "\n",
    "The negative coefficient of ($-0.0023178$) suggests that as `Depthm` increases, the dissolved oxygen level (`O2ml_L`) decreases."
   ]
  },
  {
   "cell_type": "markdown",
   "metadata": {},
   "source": [
    "Now lets perform a statistical hypothesis test to see if there a significant relationship between any of the predictors (Depthm, T_degC, Salnty, SiO3uM, Phaeop, NO2uM, and NH3uM) and the dissolved oxygen levels (O2ml_L) in seawater. I will be using ANOVA for this."
   ]
  },
  {
   "cell_type": "markdown",
   "metadata": {},
   "source": [
    "### ANOVA"
   ]
  },
  {
   "cell_type": "markdown",
   "metadata": {},
   "source": [
    "Assumptions of the ANOVA test: \n",
    "- The observations are independent and randomly obtained from the population defined by the factor levels.\n",
    "- The data in each group (factor level) is normally distributed.\n",
    "- The data in each group has the same variance."
   ]
  },
  {
   "cell_type": "code",
   "execution_count": 295,
   "metadata": {},
   "outputs": [
    {
     "name": "stdout",
     "output_type": "stream",
     "text": [
      "Analysis of Variance Table\n",
      "\n",
      "Response: O2ml_L\n",
      "             Df  Sum Sq Mean Sq    F value Pr(>F)    \n",
      "Depthm        1 18558.5 18558.5 72732.6462 <2e-16 ***\n",
      "T_degC        1  2321.8  2321.8  9099.2837 <2e-16 ***\n",
      "Salnty        1    67.5    67.5   264.3939 <2e-16 ***\n",
      "SiO3uM        1  4475.8  4475.8 17541.1307 <2e-16 ***\n",
      "Phaeop        1    76.2    76.2   298.5607 <2e-16 ***\n",
      "NO2uM         1     0.5     0.5     2.0971 0.1476    \n",
      "NH3uM         1     0.2     0.2     0.9760 0.3232    \n",
      "Residuals 16230  4141.3     0.3                      \n",
      "---\n",
      "Signif. codes:  0 '***' 0.001 '**' 0.01 '*' 0.05 '.' 0.1 ' ' 1\n"
     ]
    }
   ],
   "source": [
    "# Fitting the linear model\n",
    "model <- lm(O2ml_L ~ Depthm + T_degC + Salnty + SiO3uM + Phaeop + NO2uM + NH3uM, data = train)\n",
    "\n",
    "# Performing an ANOVA test\n",
    "anova_results <- anova(model)\n",
    "\n",
    "# View the ANOVA table\n",
    "print(anova_results)"
   ]
  },
  {
   "cell_type": "markdown",
   "metadata": {},
   "source": [
    "From the above ANOVA result we can formulate and conclude the following:\n",
    "\n",
    "significane level is 0.01\n",
    "### Hypotheses\n",
    "- **Null Hypothesis (H₀)**: None of the predictors (Depthm, T_degC, Salnty, SiO3uM, Phaeop, NO2uM, and NH3uM) have a statistically significant relationship with the response variable, O2ml_L (all coefficients are zero).\n",
    "  \n",
    "- **Alternative Hypothesis (H₁)**: At least one predictor has a statistically significant relationship with the response variable, O2ml_L. (Atleast one coefficient is different from zero)\n",
    "  \n",
    "\n",
    "### Results from ANOVA Table\n",
    "\n",
    "- **Depthm**: F(1, 16230) = 72732.65, p < 2e-16. Here the pvalue is very small, so this indicates a significant relationship.\n",
    "- **T_degC**: F(1, 16230) = 9099.28, p < 2e-16. Here the pvalue is very small, so this indicates a significant relationship.\n",
    "- **Salnty**: F(1, 16230) = 264.39, p < 2e-16. Here the pvalue is very small, so this indicates a significant relationship.\n",
    "- **SiO3uM**: F(1, 16230) = 17541.13, p < 2e-16. Here the pvalue is very small, so this indicates a significant relationship.\n",
    "- **Phaeop**: F(1, 16230) = 298.56, p < 2e-16. Here the pvalue is very small, so this indicates a significant relationship.\n",
    "- **NO2uM**: F(1, 16230) = 2.10, p = 0.1476. Here the pvalue is greater  than 0.01 significance so, this suggests no significant relationship.\n",
    "- **NH3uM**: F(1, 16230) = 0.98, p = 0.3232. Here the pvalue is greater  than 0.01 significance so, this suggests no significant relationship.\n",
    "\n",
    "### Conclusion\n",
    "Based on the ANOVA table we can conclude the following:\n",
    "- Since we have more than one variable which has significant relation with the response variable , there is significant evidence to reject the null hypothesis at the α = 0.01 level. So, this indicates that at least one of the predictors (Depthm, T_degC, Salnty, SiO3uM, or Phaeop) is significantly associated with the response variable, O2ml_L.\n",
    "- NO2uM and NH3uM do not significantly explain the variance in O2ml_L, as their p-values are greater than 0.01."
   ]
  },
  {
   "cell_type": "markdown",
   "metadata": {},
   "source": [
    "Now let's move on to peform the diagnostics for the regression model, this will be helpful to check if our assumptions for regression modelling and ANOVA performed earlier are valid."
   ]
  },
  {
   "cell_type": "markdown",
   "metadata": {},
   "source": [
    "### Diagnostics"
   ]
  },
  {
   "cell_type": "markdown",
   "metadata": {},
   "source": [
    "#### Residual Analysis"
   ]
  },
  {
   "cell_type": "markdown",
   "metadata": {},
   "source": [
    "#### 1) Checking for Constant Variance"
   ]
  },
  {
   "cell_type": "code",
   "execution_count": 296,
   "metadata": {},
   "outputs": [
    {
     "name": "stderr",
     "output_type": "stream",
     "text": [
      "\u001b[1m\u001b[22m`geom_smooth()` using method = 'gam' and formula = 'y ~ s(x, bs = \"cs\")'\n"
     ]
    },
    {
     "data": {
      "image/png": "[encoded data removed]",
      "text/plain": [
       "plot without title"
      ]
     },
     "metadata": {
      "image/png": {
       "height": 420,
       "width": 420
      }
     },
     "output_type": "display_data"
    }
   ],
   "source": [
    "\n",
    "library(ggplot2)\n",
    "library(car)\n",
    "\n",
    "df.diagnostics <- data.frame(yhat = fitted(model), r = residuals(model))\n",
    "\n",
    "# Residuals vs fitted Plot\n",
    "ggplot(df.diagnostics, aes(x = yhat, y = r)) +\n",
    "  geom_point(alpha = 0.5) +\n",
    "  geom_smooth(se = F, col = \"#CFB87C\") +\n",
    "  geom_hline(yintercept = 0, color = \"black\") +\n",
    "  xlab(\"Fitted Values\") +\n",
    "  ylab(\"Residuals\") +\n",
    "    ggtitle(\"Residuals vs Fitted Plot Plot\")+\n",
    "  theme_bw()"
   ]
  },
  {
   "cell_type": "markdown",
   "metadata": {},
   "source": [
    "From the above Residuals vs Fitted plot we can see presence of some outliers and also right towards the end of the plot there are many values which have a lower value compared to others. There is a clear visible downward spike, so we can say that constant variance assumption has been violated here."
   ]
  },
  {
   "cell_type": "markdown",
   "metadata": {},
   "source": [
    "#### 2) Checking For Normality"
   ]
  },
  {
   "cell_type": "code",
   "execution_count": 297,
   "metadata": {},
   "outputs": [
    {
     "data": {
      "image/png": "[encoded data removed]",
      "text/plain": [
       "plot without title"
      ]
     },
     "metadata": {
      "image/png": {
       "height": 420,
       "width": 420
      }
     },
     "output_type": "display_data"
    }
   ],
   "source": [
    "# Normal Q-Q plot\n",
    "ggplot(train, aes(sample = residuals(model))) +\n",
    "  stat_qq() +\n",
    "  stat_qq_line() +\n",
    "  labs(x = \"Theoretical Quantiles\", y = \"Sample Quantiles\") +\n",
    "  ggtitle(\"Normal Q-Q Plot\")"
   ]
  },
  {
   "cell_type": "markdown",
   "metadata": {},
   "source": [
    "From the above Q-Q plot we can clearly see that the points are not following a straight line, we can see a lot of point at the top and tail which deviate from the straight line. We can also see the presece of outliers. From this we can say that the assumption of normality has been violated."
   ]
  },
  {
   "cell_type": "markdown",
   "metadata": {},
   "source": [
    "#### 3) Checking for Linearity"
   ]
  },
  {
   "cell_type": "code",
   "execution_count": 298,
   "metadata": {},
   "outputs": [
    {
     "name": "stderr",
     "output_type": "stream",
     "text": [
      "\u001b[1m\u001b[22m`geom_smooth()` using method = 'gam' and formula = 'y ~ s(x, bs = \"cs\")'\n"
     ]
    },
    {
     "data": {
      "image/png": "[encoded data removed]",
      "text/plain": [
       "plot without title"
      ]
     },
     "metadata": {
      "image/png": {
       "height": 420,
       "width": 420
      }
     },
     "output_type": "display_data"
    }
   ],
   "source": [
    "# Scale - location Plot\n",
    "ggplot(train, aes(x = fitted(model), y = sqrt(abs(residuals(model))))) +\n",
    "  geom_point() +\n",
    "  geom_smooth() +\n",
    "  labs(x = \"Fitted Values\", y = \"Sqrt(Standardized Residuals)\") +\n",
    "  ggtitle(\"Scale-Location Plot\")"
   ]
  },
  {
   "cell_type": "markdown",
   "metadata": {},
   "source": [
    "From the above scale vs location plot we can clearly see that there is a presence of curvature, which shows that the assumpotion of linearity is violated."
   ]
  },
  {
   "cell_type": "markdown",
   "metadata": {},
   "source": [
    "#### 4) Confirming presence of outliers"
   ]
  },
  {
   "cell_type": "code",
   "execution_count": 299,
   "metadata": {},
   "outputs": [
    {
     "data": {
      "image/png": "[encoded data removed]",
      "text/plain": [
       "plot without title"
      ]
     },
     "metadata": {
      "image/png": {
       "height": 420,
       "width": 420
      }
     },
     "output_type": "display_data"
    }
   ],
   "source": [
    "# Residuals vs Leverage\n",
    "library(car)\n",
    "ggplot(train, aes(x = influence(model)$hat, y = residuals(model))) +\n",
    "  geom_point() +\n",
    "  geom_hline(yintercept = 0, color = \"red\") +\n",
    "  labs(x = \"Leverage\", y = \"Residuals\") +\n",
    "  ggtitle(\"Residuals vs. Leverage\")"
   ]
  },
  {
   "cell_type": "markdown",
   "metadata": {},
   "source": [
    "From the above residuals vs leverage plot we can see the presence of outliers which might be points that can influence the results"
   ]
  },
  {
   "cell_type": "markdown",
   "metadata": {},
   "source": [
    "#### 5) Multicollinearity\n",
    "\n",
    "Multicollinearity has already been tested in the strat of this analysis right after cleaning, to recap we have removed to variables that showed high correlation. Then tested VIF values again to get a result which shows that there was no multicollinearity present in the current model."
   ]
  },
  {
   "cell_type": "markdown",
   "metadata": {},
   "source": [
    "### Goodness of Fit"
   ]
  },
  {
   "cell_type": "markdown",
   "metadata": {},
   "source": [
    "Let's review the summary of our model again:"
   ]
  },
  {
   "cell_type": "code",
   "execution_count": 300,
   "metadata": {},
   "outputs": [
    {
     "data": {
      "text/plain": [
       "\n",
       "Call:\n",
       "lm(formula = O2ml_L ~ Depthm + T_degC + Salnty + SiO3uM + Phaeop + \n",
       "    NO2uM + NH3uM, data = train)\n",
       "\n",
       "Residuals:\n",
       "    Min      1Q  Median      3Q     Max \n",
       "-3.7665 -0.2659  0.0344  0.3043  8.0885 \n",
       "\n",
       "Coefficients:\n",
       "              Estimate Std. Error  t value Pr(>|t|)    \n",
       "(Intercept)  6.4449114  0.1014648   63.519   <2e-16 ***\n",
       "Depthm      -0.0023178  0.0001356  -17.098   <2e-16 ***\n",
       "T_degC       0.0649608  0.0026139   24.852   <2e-16 ***\n",
       "Salnty      -0.0483205  0.0028386  -17.023   <2e-16 ***\n",
       "SiO3uM      -0.0865234  0.0006587 -131.361   <2e-16 ***\n",
       "Phaeop       0.3314825  0.0198599   16.691   <2e-16 ***\n",
       "NO2uM       -0.0897524  0.0526548   -1.705   0.0883 .  \n",
       "NH3uM        0.0141123  0.0142852    0.988   0.3232    \n",
       "---\n",
       "Signif. codes:  0 '***' 0.001 '**' 0.01 '*' 0.05 '.' 0.1 ' ' 1\n",
       "\n",
       "Residual standard error: 0.5051 on 16230 degrees of freedom\n",
       "Multiple R-squared:  0.8603,\tAdjusted R-squared:  0.8602 \n",
       "F-statistic: 1.428e+04 on 7 and 16230 DF,  p-value: < 2.2e-16\n"
      ]
     },
     "metadata": {},
     "output_type": "display_data"
    }
   ],
   "source": [
    "summary(model)"
   ]
  },
  {
   "cell_type": "markdown",
   "metadata": {},
   "source": [
    "From the above, the high R-squared and Adjusted R-squared values both around 86% suggest a good fit, indicating that the model explains a substantial portion of the variance in O2ml_L."
   ]
  },
  {
   "cell_type": "markdown",
   "metadata": {},
   "source": [
    "Let's verify this with actual vs predicted plot"
   ]
  },
  {
   "cell_type": "code",
   "execution_count": 301,
   "metadata": {},
   "outputs": [
    {
     "data": {
      "image/png": "[encoded data removed]",
      "text/plain": [
       "Plot with title \"Actual vs Predicted\""
      ]
     },
     "metadata": {
      "image/png": {
       "height": 420,
       "width": 420
      }
     },
     "output_type": "display_data"
    }
   ],
   "source": [
    "actual <- model$model$O2ml_L  # Replace with your actual response variable\n",
    "predicted <- predict(model)\n",
    "\n",
    "# Plotting Predicted vs Actual\n",
    "plot(actual, predicted, xlab = \"Actual\", ylab = \"Predicted\",\n",
    "     main = \"Actual vs Predicted\")\n",
    "abline(0, 1, col = \"red\")  # Add a 45-degree reference line\n"
   ]
  },
  {
   "cell_type": "markdown",
   "metadata": {},
   "source": [
    "From the above actual vs predicted plot we can say that the model is a good fit, but there could be an improvement, due to the presence of outliers and some dispersion present."
   ]
  },
  {
   "cell_type": "markdown",
   "metadata": {},
   "source": [
    "### Feature selection"
   ]
  },
  {
   "cell_type": "code",
   "execution_count": 302,
   "metadata": {},
   "outputs": [
    {
     "data": {
      "text/plain": [
       "\n",
       "Call:\n",
       "lm(formula = O2ml_L ~ Depthm + T_degC + Salnty + SiO3uM + Phaeop + \n",
       "    NO2uM + NH3uM, data = train)\n",
       "\n",
       "Residuals:\n",
       "    Min      1Q  Median      3Q     Max \n",
       "-3.7665 -0.2659  0.0344  0.3043  8.0885 \n",
       "\n",
       "Coefficients:\n",
       "              Estimate Std. Error  t value Pr(>|t|)    \n",
       "(Intercept)  6.4449114  0.1014648   63.519   <2e-16 ***\n",
       "Depthm      -0.0023178  0.0001356  -17.098   <2e-16 ***\n",
       "T_degC       0.0649608  0.0026139   24.852   <2e-16 ***\n",
       "Salnty      -0.0483205  0.0028386  -17.023   <2e-16 ***\n",
       "SiO3uM      -0.0865234  0.0006587 -131.361   <2e-16 ***\n",
       "Phaeop       0.3314825  0.0198599   16.691   <2e-16 ***\n",
       "NO2uM       -0.0897524  0.0526548   -1.705   0.0883 .  \n",
       "NH3uM        0.0141123  0.0142852    0.988   0.3232    \n",
       "---\n",
       "Signif. codes:  0 '***' 0.001 '**' 0.01 '*' 0.05 '.' 0.1 ' ' 1\n",
       "\n",
       "Residual standard error: 0.5051 on 16230 degrees of freedom\n",
       "Multiple R-squared:  0.8603,\tAdjusted R-squared:  0.8602 \n",
       "F-statistic: 1.428e+04 on 7 and 16230 DF,  p-value: < 2.2e-16\n"
      ]
     },
     "metadata": {},
     "output_type": "display_data"
    }
   ],
   "source": [
    "summary(model)"
   ]
  },
  {
   "cell_type": "markdown",
   "metadata": {},
   "source": [
    "From these results from the summary of the model we can see that features, 'Depthm' , 'T_degC', 'Salnty', 'SiO3um' and 'Phaeop' are significant predictors. Features 'NO2uM' and 'NH3uM' have p value greater than the significance level.\n",
    "\n",
    "So, based on p-values we can say that features, 'Depthm' , 'T_degC', 'Salnty', 'SiO3um' and 'Phaeop' are the best to predict the model. 0.3232 "
   ]
  },
  {
   "cell_type": "markdown",
   "metadata": {
    "id": "-8wVQN1AfP4i",
    "vscode": {
     "languageId": "r"
    }
   },
   "source": [
    "Now let's see which model are best with varying sizes of the predictors and then analyse with various metrics."
   ]
  },
  {
   "cell_type": "markdown",
   "metadata": {},
   "source": [
    "#### Model Selection"
   ]
  },
  {
   "cell_type": "code",
   "execution_count": 303,
   "metadata": {
    "colab": {
     "base_uri": "https://localhost:8080/"
    },
    "id": "CoEPBK0qnpKm",
    "outputId": "06045a69-e43d-41a3-f4ad-52437d48987c",
    "vscode": {
     "languageId": "r"
    }
   },
   "outputs": [],
   "source": [
    "install.packages('leaps')"
   ]
  },
  {
   "cell_type": "code",
   "execution_count": 304,
   "metadata": {
    "colab": {
     "base_uri": "https://localhost:8080/",
     "height": 1000
    },
    "id": "AcACxAqRpD2L",
    "outputId": "a08845ca-ba84-4fc4-b661-73bf347ef848",
    "vscode": {
     "languageId": "r"
    }
   },
   "outputs": [
    {
     "data": {
      "text/html": [
       "<table class=\"dataframe\">\n",
       "<caption>A matrix: 7 × 8 of type lgl</caption>\n",
       "<thead>\n",
       "\t<tr><th></th><th scope=col>(Intercept)</th><th scope=col>Depthm</th><th scope=col>T_degC</th><th scope=col>Salnty</th><th scope=col>SiO3uM</th><th scope=col>Phaeop</th><th scope=col>NO2uM</th><th scope=col>NH3uM</th></tr>\n",
       "</thead>\n",
       "<tbody>\n",
       "\t<tr><th scope=row>1</th><td>TRUE</td><td>FALSE</td><td>FALSE</td><td>FALSE</td><td>TRUE</td><td>FALSE</td><td>FALSE</td><td>FALSE</td></tr>\n",
       "\t<tr><th scope=row>2</th><td>TRUE</td><td> TRUE</td><td>FALSE</td><td>FALSE</td><td>TRUE</td><td>FALSE</td><td>FALSE</td><td>FALSE</td></tr>\n",
       "\t<tr><th scope=row>3</th><td>TRUE</td><td> TRUE</td><td> TRUE</td><td>FALSE</td><td>TRUE</td><td>FALSE</td><td>FALSE</td><td>FALSE</td></tr>\n",
       "\t<tr><th scope=row>4</th><td>TRUE</td><td> TRUE</td><td> TRUE</td><td>FALSE</td><td>TRUE</td><td> TRUE</td><td>FALSE</td><td>FALSE</td></tr>\n",
       "\t<tr><th scope=row>5</th><td>TRUE</td><td> TRUE</td><td> TRUE</td><td> TRUE</td><td>TRUE</td><td> TRUE</td><td>FALSE</td><td>FALSE</td></tr>\n",
       "\t<tr><th scope=row>6</th><td>TRUE</td><td> TRUE</td><td> TRUE</td><td> TRUE</td><td>TRUE</td><td> TRUE</td><td> TRUE</td><td>FALSE</td></tr>\n",
       "\t<tr><th scope=row>7</th><td>TRUE</td><td> TRUE</td><td> TRUE</td><td> TRUE</td><td>TRUE</td><td> TRUE</td><td> TRUE</td><td> TRUE</td></tr>\n",
       "</tbody>\n",
       "</table>\n"
      ],
      "text/latex": [
       "A matrix: 7 × 8 of type lgl\n",
       "\\begin{tabular}{r|llllllll}\n",
       "  & (Intercept) & Depthm & T\\_degC & Salnty & SiO3uM & Phaeop & NO2uM & NH3uM\\\\\n",
       "\\hline\n",
       "\t1 & TRUE & FALSE & FALSE & FALSE & TRUE & FALSE & FALSE & FALSE\\\\\n",
       "\t2 & TRUE &  TRUE & FALSE & FALSE & TRUE & FALSE & FALSE & FALSE\\\\\n",
       "\t3 & TRUE &  TRUE &  TRUE & FALSE & TRUE & FALSE & FALSE & FALSE\\\\\n",
       "\t4 & TRUE &  TRUE &  TRUE & FALSE & TRUE &  TRUE & FALSE & FALSE\\\\\n",
       "\t5 & TRUE &  TRUE &  TRUE &  TRUE & TRUE &  TRUE & FALSE & FALSE\\\\\n",
       "\t6 & TRUE &  TRUE &  TRUE &  TRUE & TRUE &  TRUE &  TRUE & FALSE\\\\\n",
       "\t7 & TRUE &  TRUE &  TRUE &  TRUE & TRUE &  TRUE &  TRUE &  TRUE\\\\\n",
       "\\end{tabular}\n"
      ],
      "text/markdown": [
       "\n",
       "A matrix: 7 × 8 of type lgl\n",
       "\n",
       "| <!--/--> | (Intercept) | Depthm | T_degC | Salnty | SiO3uM | Phaeop | NO2uM | NH3uM |\n",
       "|---|---|---|---|---|---|---|---|---|\n",
       "| 1 | TRUE | FALSE | FALSE | FALSE | TRUE | FALSE | FALSE | FALSE |\n",
       "| 2 | TRUE |  TRUE | FALSE | FALSE | TRUE | FALSE | FALSE | FALSE |\n",
       "| 3 | TRUE |  TRUE |  TRUE | FALSE | TRUE | FALSE | FALSE | FALSE |\n",
       "| 4 | TRUE |  TRUE |  TRUE | FALSE | TRUE |  TRUE | FALSE | FALSE |\n",
       "| 5 | TRUE |  TRUE |  TRUE |  TRUE | TRUE |  TRUE | FALSE | FALSE |\n",
       "| 6 | TRUE |  TRUE |  TRUE |  TRUE | TRUE |  TRUE |  TRUE | FALSE |\n",
       "| 7 | TRUE |  TRUE |  TRUE |  TRUE | TRUE |  TRUE |  TRUE |  TRUE |\n",
       "\n"
      ],
      "text/plain": [
       "  (Intercept) Depthm T_degC Salnty SiO3uM Phaeop NO2uM NH3uM\n",
       "1 TRUE        FALSE  FALSE  FALSE  TRUE   FALSE  FALSE FALSE\n",
       "2 TRUE         TRUE  FALSE  FALSE  TRUE   FALSE  FALSE FALSE\n",
       "3 TRUE         TRUE   TRUE  FALSE  TRUE   FALSE  FALSE FALSE\n",
       "4 TRUE         TRUE   TRUE  FALSE  TRUE    TRUE  FALSE FALSE\n",
       "5 TRUE         TRUE   TRUE   TRUE  TRUE    TRUE  FALSE FALSE\n",
       "6 TRUE         TRUE   TRUE   TRUE  TRUE    TRUE   TRUE FALSE\n",
       "7 TRUE         TRUE   TRUE   TRUE  TRUE    TRUE   TRUE  TRUE"
      ]
     },
     "metadata": {},
     "output_type": "display_data"
    },
    {
     "name": "stdout",
     "output_type": "stream",
     "text": [
      "[1] \"The AIC Values are:\"\n"
     ]
    },
    {
     "data": {
      "text/html": [
       "<style>\n",
       ".list-inline {list-style: none; margin:0; padding: 0}\n",
       ".list-inline>li {display: inline-block}\n",
       ".list-inline>li:not(:last-child)::after {content: \"\\00b7\"; padding: 0 .5ex}\n",
       "</style>\n",
       "<ol class=list-inline><li>-19491.9852272089</li><li>-21212.0255597217</li><li>-21597.3575765951</li><li>-21890.3969374089</li><li>-22173.7958990925</li><li>-22173.893772217</li><li>-22172.8701750368</li></ol>\n"
      ],
      "text/latex": [
       "\\begin{enumerate*}\n",
       "\\item -19491.9852272089\n",
       "\\item -21212.0255597217\n",
       "\\item -21597.3575765951\n",
       "\\item -21890.3969374089\n",
       "\\item -22173.7958990925\n",
       "\\item -22173.893772217\n",
       "\\item -22172.8701750368\n",
       "\\end{enumerate*}\n"
      ],
      "text/markdown": [
       "1. -19491.9852272089\n",
       "2. -21212.0255597217\n",
       "3. -21597.3575765951\n",
       "4. -21890.3969374089\n",
       "5. -22173.7958990925\n",
       "6. -22173.893772217\n",
       "7. -22172.8701750368\n",
       "\n",
       "\n"
      ],
      "text/plain": [
       "[1] -19491.99 -21212.03 -21597.36 -21890.40 -22173.80 -22173.89 -22172.87"
      ]
     },
     "metadata": {},
     "output_type": "display_data"
    },
    {
     "data": {
      "image/png": "[encoded data removed]",
      "text/plain": [
       "plot without title"
      ]
     },
     "metadata": {
      "image/png": {
       "height": 420,
       "width": 420
      }
     },
     "output_type": "display_data"
    },
    {
     "name": "stdout",
     "output_type": "stream",
     "text": [
      "[1] \"The BIC Values are:\"\n"
     ]
    },
    {
     "data": {
      "text/html": [
       "<style>\n",
       ".list-inline {list-style: none; margin:0; padding: 0}\n",
       ".list-inline>li {display: inline-block}\n",
       ".list-inline>li:not(:last-child)::after {content: \"\\00b7\"; padding: 0 .5ex}\n",
       "</style>\n",
       "<ol class=list-inline><li>-19484.2901177555</li><li>-21196.6353408149</li><li>-21574.2722482348</li><li>-21859.6164995952</li><li>-22135.3203518254</li><li>-22127.7231154964</li><li>-22119.0044088629</li></ol>\n"
      ],
      "text/latex": [
       "\\begin{enumerate*}\n",
       "\\item -19484.2901177555\n",
       "\\item -21196.6353408149\n",
       "\\item -21574.2722482348\n",
       "\\item -21859.6164995952\n",
       "\\item -22135.3203518254\n",
       "\\item -22127.7231154964\n",
       "\\item -22119.0044088629\n",
       "\\end{enumerate*}\n"
      ],
      "text/markdown": [
       "1. -19484.2901177555\n",
       "2. -21196.6353408149\n",
       "3. -21574.2722482348\n",
       "4. -21859.6164995952\n",
       "5. -22135.3203518254\n",
       "6. -22127.7231154964\n",
       "7. -22119.0044088629\n",
       "\n",
       "\n"
      ],
      "text/plain": [
       "[1] -19484.29 -21196.64 -21574.27 -21859.62 -22135.32 -22127.72 -22119.00"
      ]
     },
     "metadata": {},
     "output_type": "display_data"
    },
    {
     "data": {
      "image/png": "[encoded data removed]",
      "text/plain": [
       "plot without title"
      ]
     },
     "metadata": {
      "image/png": {
       "height": 420,
       "width": 420
      }
     },
     "output_type": "display_data"
    },
    {
     "name": "stdout",
     "output_type": "stream",
     "text": [
      "[1] \"The adjusted R^2 values are:\"\n"
     ]
    },
    {
     "data": {
      "text/html": [
       "<style>\n",
       ".list-inline {list-style: none; margin:0; padding: 0}\n",
       ".list-inline>li {display: inline-block}\n",
       ".list-inline>li:not(:last-child)::after {content: \"\\00b7\"; padding: 0 .5ex}\n",
       "</style>\n",
       "<ol class=list-inline><li>0.835078446951443</li><li>0.851663774425713</li><li>0.855151313305888</li><li>0.857750640188316</li><li>0.860220359641389</li><li>0.860229806565329</li><li>0.860229599472596</li></ol>\n"
      ],
      "text/latex": [
       "\\begin{enumerate*}\n",
       "\\item 0.835078446951443\n",
       "\\item 0.851663774425713\n",
       "\\item 0.855151313305888\n",
       "\\item 0.857750640188316\n",
       "\\item 0.860220359641389\n",
       "\\item 0.860229806565329\n",
       "\\item 0.860229599472596\n",
       "\\end{enumerate*}\n"
      ],
      "text/markdown": [
       "1. 0.835078446951443\n",
       "2. 0.851663774425713\n",
       "3. 0.855151313305888\n",
       "4. 0.857750640188316\n",
       "5. 0.860220359641389\n",
       "6. 0.860229806565329\n",
       "7. 0.860229599472596\n",
       "\n",
       "\n"
      ],
      "text/plain": [
       "[1] 0.8350784 0.8516638 0.8551513 0.8577506 0.8602204 0.8602298 0.8602296"
      ]
     },
     "metadata": {},
     "output_type": "display_data"
    },
    {
     "data": {
      "image/png": "[encoded data removed]",
      "text/plain": [
       "plot without title"
      ]
     },
     "metadata": {
      "image/png": {
       "height": 420,
       "width": 420
      }
     },
     "output_type": "display_data"
    },
    {
     "name": "stdout",
     "output_type": "stream",
     "text": [
      "[1] \"R^2 values are:\"\n"
     ]
    },
    {
     "data": {
      "text/html": [
       "<style>\n",
       ".list-inline {list-style: none; margin:0; padding: 0}\n",
       ".list-inline>li {display: inline-block}\n",
       ".list-inline>li:not(:last-child)::after {content: \"\\00b7\"; padding: 0 .5ex}\n",
       "</style>\n",
       "<ol class=list-inline><li>0.835088604095807</li><li>0.851682045809043</li><li>0.855178076012058</li><li>0.857785683449955</li><li>0.860263403196343</li><li>0.860281455340386</li><li>0.86028985646611</li></ol>\n"
      ],
      "text/latex": [
       "\\begin{enumerate*}\n",
       "\\item 0.835088604095807\n",
       "\\item 0.851682045809043\n",
       "\\item 0.855178076012058\n",
       "\\item 0.857785683449955\n",
       "\\item 0.860263403196343\n",
       "\\item 0.860281455340386\n",
       "\\item 0.86028985646611\n",
       "\\end{enumerate*}\n"
      ],
      "text/markdown": [
       "1. 0.835088604095807\n",
       "2. 0.851682045809043\n",
       "3. 0.855178076012058\n",
       "4. 0.857785683449955\n",
       "5. 0.860263403196343\n",
       "6. 0.860281455340386\n",
       "7. 0.86028985646611\n",
       "\n",
       "\n"
      ],
      "text/plain": [
       "[1] 0.8350886 0.8516820 0.8551781 0.8577857 0.8602634 0.8602815 0.8602899"
      ]
     },
     "metadata": {},
     "output_type": "display_data"
    },
    {
     "data": {
      "image/png": "[encoded data removed]",
      "text/plain": [
       "Plot with title \"R^2 Plot for various predictors\""
      ]
     },
     "metadata": {
      "image/png": {
       "height": 420,
       "width": 420
      }
     },
     "output_type": "display_data"
    }
   ],
   "source": [
    "library(leaps)\n",
    "\n",
    "reg1 <- regsubsets(O2ml_L ~ Depthm + T_degC + Salnty + SiO3uM + Phaeop + NO2uM + NH3uM, data = train)\n",
    "rs <- summary(reg1)\n",
    "rs$which\n",
    "\n",
    "num_models <- length(rs$rss)\n",
    "\n",
    "n <- nrow(train)\n",
    "AIC_values <- 2 * (1:num_models) + n * log(rs$rss / n)  # Calculating AIC values\n",
    "\n",
    "BIC_values <- log(n) * (1:num_models) + n * log(rs$rss / n)  # Calculating BIC Values\n",
    "\n",
    "print('The AIC Values are:')\n",
    "\n",
    "AIC_values\n",
    "\n",
    "\n",
    "plot(1:num_models, AIC_values, type = \"b\", xlab = \"Number of Predictors\", ylab = \"AIC\") # plotting AIC\n",
    "\n",
    "plot(1:num_models, BIC_values, type = \"b\", xlab = \"Number of Predictors\", ylab = \"BIC\") # plotting BIC\n",
    "\n",
    "print('The BIC Values are:')\n",
    "\n",
    "BIC_values\n",
    "\n",
    "\n",
    "plot(1:num_models, rs$adjr2, type = \"b\", xlab = \"Number of Predictors\", ylab = \"Adjusted R-squared\") # plotting adjusted R^2\n",
    "\n",
    "print('The adjusted R^2 values are:')\n",
    "rs$adjr2\n",
    "\n",
    "rs$rsq <- 1 - rs$rss / sum((train$O2ml_L - mean(train$O2ml_L))^2)\n",
    "plot(1:num_models, rs$rsq, type = \"b\", col = \"blue\", xlab = \"Number of Predictors\", ylab = \"Goodness of Fit\", ylim = c(0, 1)) # plotting R^2\n",
    "title(\"R^2 Plot for various predictors\")\n",
    "print('R^2 values are:')\n",
    "rs$rsq"
   ]
  },
  {
   "cell_type": "markdown",
   "metadata": {},
   "source": [
    "The best models according to size of the predictors:\n",
    "\n",
    "1. **Model 1**:\n",
    "   $\n",
    "   O2ml\\_L = \\beta_0 + \\beta_{SiO3uM} \\cdot SiO3uM\n",
    "   $\n",
    "   \n",
    "\n",
    "2. **Model 2**:\n",
    " $\n",
    "   O2ml\\_L = \\beta_0 + \\beta_{Depthm} \\cdot Depthm + \\beta_{SiO3uM} \\cdot SiO3uM\n",
    "$\n",
    "  \n",
    "\n",
    "3. **Model 3**:\n",
    " $\n",
    "   O2ml\\_L = \\beta_0 + \\beta_{Depthm} \\cdot Depthm + \\beta_{T\\_degC} \\cdot T\\_degC + \\beta_{SiO3uM} \\cdot SiO3uM\n",
    "   $\n",
    "  \n",
    "\n",
    "4. **Model 4**:\n",
    "$\n",
    "   O2ml\\_L = \\beta_0 + \\beta_{Depthm} \\cdot Depthm + \\beta_{T\\_degC} \\cdot T\\_degC + \\beta_{SiO3uM} \\cdot SiO3uM + \\beta_{Phaeop} \\cdot Phaeop\n",
    "$\n",
    "   \n",
    "\n",
    "5. **Model 5**:\n",
    "$\n",
    "   O2ml\\_L = \\beta_0 + \\beta_{Depthm} \\cdot Depthm + \\beta_{T\\_degC} \\cdot T\\_degC + \\beta_{Salnty} \\cdot Salnty + \\beta_{SiO3uM} \\cdot SiO3uM + \\beta_{Phaeop} \\cdot Phaeop\n",
    " $\n",
    " \n",
    "\n",
    "6. **Model 6**:\n",
    "  $\n",
    "   O2ml\\_L = \\beta_0 + \\beta_{Depthm} \\cdot Depthm + \\beta_{T\\_degC} \\cdot T\\_degC + \\beta_{Salnty} \\cdot Salnty + \\beta_{SiO3uM} \\cdot SiO3uM + \\beta_{Phaeop} \\cdot Phaeop + \\beta_{NO2uM} \\cdot NO2uM\n",
    "   $\n",
    "\n",
    "\n",
    "7. **Model 7**:\n",
    "  $\n",
    "   O2ml\\_L = \\beta_0 + \\beta_{Depthm} \\cdot Depthm + \\beta_{T\\_degC} \\cdot T\\_degC + \\beta_{Salnty} \\cdot Salnty + \\beta_{SiO3uM} \\cdot SiO3uM + \\beta_{Phaeop} \\cdot Phaeop + \\beta_{NO2uM} \\cdot NO2uM + \\beta_{NH3uM} \\cdot NH3uM\n",
    " $\n",
    "  "
   ]
  },
  {
   "cell_type": "markdown",
   "metadata": {},
   "source": [
    "From the above plots these are the best models selected by each of the metric:\n",
    "\n",
    "\n",
    "**Best Model by AIC : (The model with lowest AIC value among all is considered best model)**\n",
    "\n",
    "Model 6:  \n",
    "\n",
    "$\n",
    "   O2ml\\_L = \\beta_0 + \\beta_{Depthm} \\cdot Depthm + \\beta_{T\\_degC} \\cdot T\\_degC + \\beta_{Salnty} \\cdot Salnty + \\beta_{SiO3uM} \\cdot SiO3uM + \\beta_{Phaeop} \\cdot Phaeop + \\beta_{NO2uM} \\cdot NO2uM\n",
    "   $\n",
    "\n",
    "**Best Model by BIC: (The model with lowest BIC value among all is considered best model)**\n",
    "\n",
    "Model 5:\n",
    "\n",
    "$\n",
    "   O2ml\\_L = \\beta_0 + \\beta_{Depthm} \\cdot Depthm + \\beta_{T\\_degC} \\cdot T\\_degC + \\beta_{Salnty} \\cdot Salnty + \\beta_{SiO3uM} \\cdot SiO3uM + \\beta_{Phaeop} \\cdot Phaeop\n",
    " $\n",
    "\n",
    "\n",
    "**Best Model by Adjusted R^2: (The model with highest adjusted R^2 value among all is considered best model)**\n",
    "\n",
    "Model 6:\n",
    "\n",
    "$\n",
    "   O2ml\\_L = \\beta_0 + \\beta_{Depthm} \\cdot Depthm + \\beta_{T\\_degC} \\cdot T\\_degC + \\beta_{Salnty} \\cdot Salnty + \\beta_{SiO3uM} \\cdot SiO3uM + \\beta_{Phaeop} \\cdot Phaeop + \\beta_{NO2uM} \\cdot NO2uM\n",
    "$\n",
    "\n",
    "**Best Model by R^2 : (The model with highest  R^2 value among all is considered best model)**\n",
    "\n",
    "Model 7:\n",
    "\n",
    "  $\n",
    "   O2ml\\_L = \\beta_0 + \\beta_{Depthm} \\cdot Depthm + \\beta_{T\\_degC} \\cdot T\\_degC + \\beta_{Salnty} \\cdot Salnty + \\beta_{SiO3uM} \\cdot SiO3uM + \\beta_{Phaeop} \\cdot Phaeop + \\beta_{NO2uM} \\cdot NO2uM + \\beta_{NH3uM} \\cdot NH3uM\n",
    " $\n",
    "  \n"
   ]
  },
  {
   "cell_type": "markdown",
   "metadata": {},
   "source": [
    "From above we can see that various metrics have selected models with various size of predictor sizes. Here  in the above selection when selecting between various metric it is to be noted that model 5, model 6 and model 7 have very close metric values when it comes to all metrics AIC, BIC, R^2 and adjusted R^2. The difference between these models was in decimals places when it comes to comparission of metrics.\n",
    "\n",
    "Let's confirm the best model by also testing with MSPE values."
   ]
  },
  {
   "cell_type": "code",
   "execution_count": 305,
   "metadata": {
    "colab": {
     "base_uri": "https://localhost:8080/",
     "height": 286
    },
    "id": "TgKncPfjqmHO",
    "outputId": "c0f63836-24b5-4153-fb9f-97741bceadf6",
    "vscode": {
     "languageId": "r"
    }
   },
   "outputs": [
    {
     "data": {
      "text/html": [
       "<table class=\"dataframe\">\n",
       "<caption>A matrix: 7 × 8 of type lgl</caption>\n",
       "<thead>\n",
       "\t<tr><th></th><th scope=col>(Intercept)</th><th scope=col>Depthm</th><th scope=col>T_degC</th><th scope=col>Salnty</th><th scope=col>SiO3uM</th><th scope=col>Phaeop</th><th scope=col>NO2uM</th><th scope=col>NH3uM</th></tr>\n",
       "</thead>\n",
       "<tbody>\n",
       "\t<tr><th scope=row>1</th><td>TRUE</td><td>FALSE</td><td>FALSE</td><td>FALSE</td><td>TRUE</td><td>FALSE</td><td>FALSE</td><td>FALSE</td></tr>\n",
       "\t<tr><th scope=row>2</th><td>TRUE</td><td> TRUE</td><td>FALSE</td><td>FALSE</td><td>TRUE</td><td>FALSE</td><td>FALSE</td><td>FALSE</td></tr>\n",
       "\t<tr><th scope=row>3</th><td>TRUE</td><td> TRUE</td><td> TRUE</td><td>FALSE</td><td>TRUE</td><td>FALSE</td><td>FALSE</td><td>FALSE</td></tr>\n",
       "\t<tr><th scope=row>4</th><td>TRUE</td><td> TRUE</td><td> TRUE</td><td>FALSE</td><td>TRUE</td><td> TRUE</td><td>FALSE</td><td>FALSE</td></tr>\n",
       "\t<tr><th scope=row>5</th><td>TRUE</td><td> TRUE</td><td> TRUE</td><td> TRUE</td><td>TRUE</td><td> TRUE</td><td>FALSE</td><td>FALSE</td></tr>\n",
       "\t<tr><th scope=row>6</th><td>TRUE</td><td> TRUE</td><td> TRUE</td><td> TRUE</td><td>TRUE</td><td> TRUE</td><td> TRUE</td><td>FALSE</td></tr>\n",
       "\t<tr><th scope=row>7</th><td>TRUE</td><td> TRUE</td><td> TRUE</td><td> TRUE</td><td>TRUE</td><td> TRUE</td><td> TRUE</td><td> TRUE</td></tr>\n",
       "</tbody>\n",
       "</table>\n"
      ],
      "text/latex": [
       "A matrix: 7 × 8 of type lgl\n",
       "\\begin{tabular}{r|llllllll}\n",
       "  & (Intercept) & Depthm & T\\_degC & Salnty & SiO3uM & Phaeop & NO2uM & NH3uM\\\\\n",
       "\\hline\n",
       "\t1 & TRUE & FALSE & FALSE & FALSE & TRUE & FALSE & FALSE & FALSE\\\\\n",
       "\t2 & TRUE &  TRUE & FALSE & FALSE & TRUE & FALSE & FALSE & FALSE\\\\\n",
       "\t3 & TRUE &  TRUE &  TRUE & FALSE & TRUE & FALSE & FALSE & FALSE\\\\\n",
       "\t4 & TRUE &  TRUE &  TRUE & FALSE & TRUE &  TRUE & FALSE & FALSE\\\\\n",
       "\t5 & TRUE &  TRUE &  TRUE &  TRUE & TRUE &  TRUE & FALSE & FALSE\\\\\n",
       "\t6 & TRUE &  TRUE &  TRUE &  TRUE & TRUE &  TRUE &  TRUE & FALSE\\\\\n",
       "\t7 & TRUE &  TRUE &  TRUE &  TRUE & TRUE &  TRUE &  TRUE &  TRUE\\\\\n",
       "\\end{tabular}\n"
      ],
      "text/markdown": [
       "\n",
       "A matrix: 7 × 8 of type lgl\n",
       "\n",
       "| <!--/--> | (Intercept) | Depthm | T_degC | Salnty | SiO3uM | Phaeop | NO2uM | NH3uM |\n",
       "|---|---|---|---|---|---|---|---|---|\n",
       "| 1 | TRUE | FALSE | FALSE | FALSE | TRUE | FALSE | FALSE | FALSE |\n",
       "| 2 | TRUE |  TRUE | FALSE | FALSE | TRUE | FALSE | FALSE | FALSE |\n",
       "| 3 | TRUE |  TRUE |  TRUE | FALSE | TRUE | FALSE | FALSE | FALSE |\n",
       "| 4 | TRUE |  TRUE |  TRUE | FALSE | TRUE |  TRUE | FALSE | FALSE |\n",
       "| 5 | TRUE |  TRUE |  TRUE |  TRUE | TRUE |  TRUE | FALSE | FALSE |\n",
       "| 6 | TRUE |  TRUE |  TRUE |  TRUE | TRUE |  TRUE |  TRUE | FALSE |\n",
       "| 7 | TRUE |  TRUE |  TRUE |  TRUE | TRUE |  TRUE |  TRUE |  TRUE |\n",
       "\n"
      ],
      "text/plain": [
       "  (Intercept) Depthm T_degC Salnty SiO3uM Phaeop NO2uM NH3uM\n",
       "1 TRUE        FALSE  FALSE  FALSE  TRUE   FALSE  FALSE FALSE\n",
       "2 TRUE         TRUE  FALSE  FALSE  TRUE   FALSE  FALSE FALSE\n",
       "3 TRUE         TRUE   TRUE  FALSE  TRUE   FALSE  FALSE FALSE\n",
       "4 TRUE         TRUE   TRUE  FALSE  TRUE    TRUE  FALSE FALSE\n",
       "5 TRUE         TRUE   TRUE   TRUE  TRUE    TRUE  FALSE FALSE\n",
       "6 TRUE         TRUE   TRUE   TRUE  TRUE    TRUE   TRUE FALSE\n",
       "7 TRUE         TRUE   TRUE   TRUE  TRUE    TRUE   TRUE  TRUE"
      ]
     },
     "metadata": {},
     "output_type": "display_data"
    }
   ],
   "source": [
    "reg1 <- regsubsets(O2ml_L ~ Depthm + T_degC + Salnty + SiO3uM + Phaeop + NO2uM + NH3uM, data = train)\n",
    "rs <- summary(reg1)\n",
    "rs$which\n"
   ]
  },
  {
   "cell_type": "markdown",
   "metadata": {},
   "source": [
    "The above code is a table showing best features for each size of the predictors"
   ]
  },
  {
   "cell_type": "code",
   "execution_count": 306,
   "metadata": {
    "id": "jdkOklaFrJ1N",
    "vscode": {
     "languageId": "r"
    }
   },
   "outputs": [],
   "source": [
    "# Fitting models for best predictors in each size\n",
    "\n",
    "model1 <- lm(O2ml_L ~ Depthm, data = train)\n",
    "model2 <- lm(O2ml_L ~ Depthm + SiO3uM, data = train)\n",
    "model3 <- lm(O2ml_L ~ Depthm + T_degC + SiO3uM, data = train)\n",
    "model4 <- lm(O2ml_L ~ Depthm + T_degC + Phaeop + SiO3uM, data = train)\n",
    "model5 <- lm(O2ml_L ~ Depthm + T_degC + Salnty + SiO3uM+ Phaeop, data = train)\n",
    "model6 <- lm(O2ml_L ~ Depthm + T_degC + Salnty + SiO3uM+ Phaeop + NO2uM, data = train)\n",
    "model7 <- lm(O2ml_L ~ Depthm + T_degC + Salnty + SiO3uM+ Phaeop + NO2uM +NH3uM, data = train)\n",
    "\n",
    "\n"
   ]
  },
  {
   "cell_type": "code",
   "execution_count": 307,
   "metadata": {
    "colab": {
     "base_uri": "https://localhost:8080/"
    },
    "id": "FjDPWfWqrWvn",
    "outputId": "707751e5-2bcb-43b8-8112-a90f3ca521b3",
    "vscode": {
     "languageId": "r"
    }
   },
   "outputs": [
    {
     "name": "stdout",
     "output_type": "stream",
     "text": [
      "[1] \"MSPE for Model 1: 0.655433188328069\"\n",
      "[1] \"MSPE for Model 2: 0.233821960709644\"\n",
      "[1] \"MSPE for Model 3: 0.230057677611918\"\n",
      "[1] \"MSPE for Model 4: 0.227806616239863\"\n",
      "[1] \"MSPE for Model 5: 0.222951882360932\"\n",
      "[1] \"MSPE for Model 6: 0.223018899466372\"\n",
      "[1] \"MSPE for Model 7: 0.223282001171033\"\n",
      "[1] \"Best Model (by MSPE) Size: 5\"\n",
      "[1] \"Lowest MSPE: 0.222951882360932\"\n"
     ]
    }
   ],
   "source": [
    "# Calculating MSPE Values for each model\n",
    "\n",
    "calculate_mspe <- function(model, test_data) {\n",
    "  predictions <- predict(model, newdata = test_data)\n",
    "  mean((test_data$O2ml_L - predictions)^2)\n",
    "}\n",
    "\n",
    "mspe1 <- calculate_mspe(model1, test)\n",
    "mspe2 <- calculate_mspe(model2, test)\n",
    "mspe3 <- calculate_mspe(model3, test)\n",
    "mspe4 <- calculate_mspe(model4, test)\n",
    "mspe5 <- calculate_mspe(model5, test)\n",
    "mspe6 <- calculate_mspe(model6, test)\n",
    "mspe7 <- calculate_mspe(model7, test)\n",
    "\n",
    "\n",
    "print(paste(\"MSPE for Model 1:\", mspe1))\n",
    "print(paste(\"MSPE for Model 2:\", mspe2))\n",
    "print(paste(\"MSPE for Model 3:\", mspe3))\n",
    "print(paste(\"MSPE for Model 4:\", mspe4))\n",
    "print(paste(\"MSPE for Model 5:\", mspe5))\n",
    "print(paste(\"MSPE for Model 6:\", mspe6))\n",
    "print(paste(\"MSPE for Model 7:\", mspe7))\n",
    "\n",
    "\n",
    "mspes <- c(mspe1, mspe2, mspe3, mspe4, mspe5, mspe6,mspe7)\n",
    "best_model_size <- which.min(mspes)\n",
    "best_mspe <- mspes[best_model_size]\n",
    "\n",
    "print(paste(\"Best Model (by MSPE) Size:\", best_model_size))\n",
    "print(paste(\"Lowest MSPE:\", best_mspe))"
   ]
  },
  {
   "cell_type": "markdown",
   "metadata": {},
   "source": [
    "From the above result we can see that model 5 i.e. :\n",
    "\n",
    "$\n",
    "   O2ml\\_L = \\beta_0 + \\beta_{Depthm} \\cdot Depthm + \\beta_{T\\_degC} \\cdot T\\_degC + \\beta_{Salnty} \\cdot Salnty + \\beta_{SiO3uM} \\cdot SiO3uM + \\beta_{Phaeop} \\cdot Phaeop\n",
    " $\n",
    "\n",
    "has the best fit, since it has the lowest MSPE value.\n",
    "\n",
    "Even here we can see from the result from Model 4 to Model 7 the MSPE values are very similar with minute difference in decimals."
   ]
  },
  {
   "cell_type": "markdown",
   "metadata": {},
   "source": [
    "After the complete analysis from various metrics, I will be choosing Model 5:\n",
    "\n",
    "$\n",
    "   O2ml\\_L = \\beta_0 + \\beta_{Depthm} \\cdot Depthm + \\beta_{T\\_degC} \\cdot T\\_degC + \\beta_{Salnty} \\cdot Salnty + \\beta_{SiO3uM} \\cdot SiO3uM + \\beta_{Phaeop} \\cdot Phaeop\n",
    " $\n",
    "\n",
    "as the best model.\n",
    "\n",
    "\n",
    "Reason:\n",
    "\n",
    "- Less predictor make it simple to make predictions\n",
    "- BIC has choosen model 5 and having the lowest BIC, says us that Model 5 is preferable for balancing model fit and complexity.\n",
    "- MSPE has choosen model 5, it suggests that additional predictors dont have an impact in improvement of the model.\n"
   ]
  },
  {
   "cell_type": "code",
   "execution_count": 308,
   "metadata": {
    "colab": {
     "base_uri": "https://localhost:8080/"
    },
    "id": "SKPkdp3LteVK",
    "outputId": "a5c89152-b57b-4703-ca65-f75c3ccfb60a",
    "vscode": {
     "languageId": "r"
    }
   },
   "outputs": [],
   "source": [
    "install.packages('car')"
   ]
  },
  {
   "cell_type": "markdown",
   "metadata": {},
   "source": [
    "Since we have selected model 5 as the best model, let's verify if it has any collinearity"
   ]
  },
  {
   "cell_type": "code",
   "execution_count": 309,
   "metadata": {
    "colab": {
     "base_uri": "https://localhost:8080/"
    },
    "id": "boHQUyXrtYy7",
    "outputId": "31d7acd8-0eb3-496a-c03a-6429c13a7d8f",
    "vscode": {
     "languageId": "r"
    }
   },
   "outputs": [
    {
     "name": "stdout",
     "output_type": "stream",
     "text": [
      "[1] \"VIFs:\"\n",
      "  Depthm   T_degC   Salnty   SiO3uM   Phaeop \n",
      "3.961719 3.970993 1.032122 3.285528 1.268528 \n"
     ]
    }
   ],
   "source": [
    "library(car)\n",
    "\n",
    "\n",
    "calculate_vifs <- function(model) {\n",
    "  vif(model)\n",
    "}\n",
    "\n",
    "# Calculation VIF values\n",
    "models <- list(model5)\n",
    "\n",
    "vifs <- calculate_vifs(model5)\n",
    "cond_number <- kappa(model5)\n",
    "\n",
    "print(\"VIFs:\")\n",
    "print(vifs)\n"
   ]
  },
  {
   "cell_type": "markdown",
   "metadata": {},
   "source": [
    "From the above results we can say that there is no collinearity present in this 5 predictor model, since all VIF values are below 5."
   ]
  },
  {
   "cell_type": "markdown",
   "metadata": {},
   "source": [
    "Finally let's have a final look at the summary at our best selected model i.e. model 5"
   ]
  },
  {
   "cell_type": "code",
   "execution_count": 310,
   "metadata": {},
   "outputs": [
    {
     "data": {
      "text/plain": [
       "\n",
       "Call:\n",
       "lm(formula = O2ml_L ~ Depthm + T_degC + Salnty + SiO3uM + Phaeop, \n",
       "    data = train)\n",
       "\n",
       "Residuals:\n",
       "    Min      1Q  Median      3Q     Max \n",
       "-3.7491 -0.2664  0.0342  0.3044  8.0849 \n",
       "\n",
       "Coefficients:\n",
       "              Estimate Std. Error t value Pr(>|t|)    \n",
       "(Intercept)  6.4205975  0.1003686   63.97   <2e-16 ***\n",
       "Depthm      -0.0022869  0.0001336  -17.12   <2e-16 ***\n",
       "T_degC       0.0658894  0.0025517   25.82   <2e-16 ***\n",
       "Salnty      -0.0481107  0.0028359  -16.96   <2e-16 ***\n",
       "SiO3uM      -0.0864192  0.0006560 -131.75   <2e-16 ***\n",
       "Phaeop       0.3235582  0.0187262   17.28   <2e-16 ***\n",
       "---\n",
       "Signif. codes:  0 '***' 0.001 '**' 0.01 '*' 0.05 '.' 0.1 ' ' 1\n",
       "\n",
       "Residual standard error: 0.5052 on 16232 degrees of freedom\n",
       "Multiple R-squared:  0.8603,\tAdjusted R-squared:  0.8602 \n",
       "F-statistic: 1.999e+04 on 5 and 16232 DF,  p-value: < 2.2e-16\n"
      ]
     },
     "metadata": {},
     "output_type": "display_data"
    }
   ],
   "source": [
    "summary(model5)"
   ]
  },
  {
   "cell_type": "markdown",
   "metadata": {},
   "source": [
    "From the results from our best model, we can see that, we have a solid adjusted R^2 value of 86% which  suggest that 86% of variance dissolved in oxygen levels is explained by the model. From the P values also we can see that all of the predictors have significant impact since the p-values for all are very low."
   ]
  },
  {
   "cell_type": "markdown",
   "metadata": {},
   "source": [
    "Let's have a final look at diagnostics with this best model with 5 predictors"
   ]
  },
  {
   "cell_type": "code",
   "execution_count": 311,
   "metadata": {},
   "outputs": [
    {
     "data": {
      "image/png": "[encoded data removed]",
      "text/plain": [
       "Plot with title \"\""
      ]
     },
     "metadata": {
      "image/png": {
       "height": 420,
       "width": 420
      }
     },
     "output_type": "display_data"
    }
   ],
   "source": [
    "par(mfrow = c(2, 2))  # Arrange plots in a 2x2 grid\n",
    "plot(model5)"
   ]
  },
  {
   "cell_type": "markdown",
   "metadata": {},
   "source": [
    "Again, we can see very similar graphs and we can also see similar violations when it comes to normality, constant variance and presence of outliers. So, here the results are similar to 7 predictor model."
   ]
  },
  {
   "cell_type": "markdown",
   "metadata": {},
   "source": [
    "Overall, we can conclude that the model with 5 predictors - Depth, temperature of water, Salanity of water,Silicate concentration and Phaeophytin concentration are the best predictors to predict the oxygen concentration. A model which can explain 86% of variance dissolved in oxygen levels is achieved. Better results can be obtained if more examination was done on outlier values and trying out non-linear fitting.\n",
    "     "
   ]
  },
  {
   "cell_type": "code",
   "execution_count": null,
   "metadata": {},
   "outputs": [],
   "source": []
  },
  {
   "cell_type": "markdown",
   "metadata": {},
   "source": [
    "## Report ##"
   ]
  },
  {
   "cell_type": "markdown",
   "metadata": {},
   "source": [
    "\n",
    "### Topic: **Understanding Oxygen Dynamics in Oceanographic data : The Influence of Environmental Variables** ###\n",
    "\n",
    "##### 1. Introduction ##### \n",
    "Oceanic oxygen concentrations are fundamental for marine ecosystems, supporting biodiversity and influencing key biogeochemical processes. Oxygen levels in sea water can fluctuate due to various environmental factors. This study investigates how depth, temperature, salinity, and various nutrients influence oxygen concentration in seawater within California Sea Coast. A similar study related to this data was done on Sea Surface Temperature  by Sivasankari, Manickavasagam & R, Anandan.{(2020). Regression Analysis on Sea Surface Temperature. 10.1007/978-981-15-3284-9_68}. In their paper they analysed sea surface temperature over salinity using different methods like linear regression, decision tree, random forest, and SVR. They have performed these various regression analysis and compared the models. They found that temperature and salinity do not have that strog of a relation. \n",
    "\n",
    "The dataset used in this analysis is a subset of bottle dataset maintained by California Cooperative Oceanic Fisheries Investigations (CalCOFI).  This analysis focuses on the years 2017-2021. This observational study includes parameters such as temperature, salinity, dissolved oxygen, and nutrients. CalCOFI first collects Seawater from various sampling depths using 10-liter Niskin bottles attached to a 24-place CTD-Rosette frame. Then they measure environmental parameters using chemical analyses (i.e. titrations and assays) from the seawater samples. Finally CalCOFI  compiles the data into the Bottle Database. CalCOFI collectes this data to to understand and predict the effects of climate change on marine ecosystems. \n",
    "\n",
    "The primary questions of interest in this research are:\n",
    "\n",
    "1) Which environmental variables are the most important predictors of oxygen concentration?\n",
    "2) How well can a linear model explain the observed variability in oxygen levels?\n",
    "3) Is depth is a significant predictor for response variable - oxygen concentration?\n",
    "4) Is there a significant relationship between any of the predictors (Depthm, T_degC, Salnty, SiO3uM, Phaeop, NO2uM, and NH3uM) and the dissolved oxygen levels (O2ml_L) \n",
    "\n",
    "##### 2. Methods/Results ##### \n",
    "\n",
    "The CalCOFI dataset taken from CalCOFI research program website. Two datasets were taken from this site, one is bottle dataset and other a cast dataset which contains corresponding  date and year of recorded data in bottle dataset. These two dataset were used to filtere and to include the years 2017-2021 and relevant physical and nutrient variables. The main variables used in this analysis are:\n",
    "\n",
    "**Dependent Variable**:\n",
    "\n",
    "O2ml_L - Oxygen in mL/L\t- Milliliters of dissolved oxygen per Liter seawater\n",
    "\n",
    "**Independent Variables**:\n",
    "\n",
    "Depthm (Depth in meters)\n",
    "T_degC (Temperature of water) (Degrees C)\n",
    "Salnty (Salinity of water) (Practical Salinity Scale)\n",
    "\n",
    "PO4µM - Phosphate concentration (micro Moles per Liter)\n",
    "SiO3µM -Silicate concentration - (micro Moles per Liter)\n",
    "NO3µM - Nitrate concentration - (micro Moles per Liter)\n",
    "Phaeop -Phaeophytin concentration measured fluorometrically (µg/L)\n",
    "NO2uM - Nitrite concentration (micro Moles per Liter)\n",
    "NH3uM - Ammonium concentration - (micro Moles per Liter)\n",
    "\n",
    "Data Cleaning was performed first, where it was found out that various columns had missing values. Columns like temperature and salinity which had missing values less 10 were removed. To handle remaining missing values, first skewness was checked using density plots. These density plots can be see below.\n",
    "\n",
    "<img src=\"https://lh3.googleusercontent.com/drive-viewer/AKGpihaLjEthq50fg51ZjgsctBheUoOxNkmEhzdpioVE_qd-xHWrMINMC252ImBQ4PQY0e93VOSMbVuSnxF3opyaHsq_iMYYhXdm3UY=s1600-rw-v1\" alt=\"Drawing\" style=\"width: 350px;\"/> \n",
    "\n",
    "<img src=\"https://lh3.googleusercontent.com/drive-viewer/AKGpihY6ftN25xb0v3XPvE2-CN7DngG4cijxa_xKoP96tv3MU3a5xphXr3ZrTD4f3b4EQxL-r9Q6t2Xa10JOhaEp0QReLqYPzhQhi5U=s1600-rw-v1\" alt=\"Drawing\" style=\"width: 400px;\"/> \n",
    "\n",
    "<img src=\"https://lh3.googleusercontent.com/drive-viewer/AKGpihaFTcNCOVuCypFsB839WP3hOGU5JZ9KcNu9Z1gVM70x03-79h6uwAzUqy6jIVN7jtzjDJKF0pJjUD-T7-TsGQlkqCuH0xM9VA=s2560\" alt=\"Drawing\" style=\"width: 400px;\"/> \n",
    "\n",
    "\n",
    "After verifying the density plots, due to the presence of skewness in all the variables having missing values, median was choosen as the imputaition method to replace the missing values. Some unrealistic values were removed in all the columns . Summary statistics was compared before and after cleaning to ensure there were no major changes.\n",
    "\n",
    "To answer the questions to find the best predictors it was decided that regression modelling, particularly multiple regression was found suitable. First the dataset was randomly split into traning and test set with 80% of the data into traning set and 20% of data for testing. Initailly a correlation plot was plotted to examine which independent variables have high correlation among each other. \n",
    "\n",
    "\n",
    "<img src=\"https://lh3.googleusercontent.com/drive-viewer/AKGpihYFwvfawi-et4U1ys0kCLpAuzSlxfoOQDq_w4K1iiSRPaYPLVAI3RrBrRX2jem4Pu6g0kee7iSfZRF2Qu3thnR5IDkK5eWamA=s2560\" alt=\"Drawing\" style=\"width: 400px;\"/> \n",
    "\n",
    "It was observed that 'PO4uM', 'NO3uM' and 'SiO3uM' had a very high correlation among other variables from the above scatter plot. To verify this first a multiple linear regression model was fitted and variance inflation factors (VIFs) was observed for various features. It was confirmed that 'PO4uM', 'NO3uM' and 'SiO3uM' had high correlation due to their high values. To reduce multicollinearity 'PO4uM', 'NO3uM' features were decided to be removed from the analysis since they have VIF values more than 100.\n",
    "The multiple linear regresssion was done again and multicollinearity was checked for remaining seven predictors. It was found that there was no presence of multicollinearity in these seven predictor variables.\n",
    "\n",
    "Regression analysis was now performed on the remaining seven predictor variables. Summary of regression model was analysed and it was found that 86% of variance dissolved in oxygen levels is explained by the model, this is evident from the Adjusted $R^2$ value of 86% from the model. It was also observed that that all the predictors except nitrite concentration ('NO2uM') and Ammonium concentration ('NH3uM') are statistically very good predictors with the response variable - O2ml_L i.e. oxygen concentration.\n",
    "\n",
    "A t-test was performed to check if depth was a strong predictor for the response variable oxygen concentration. Due the very low p-value observed null hypothesis was rejected and it was concluded that there is a statistically significant relationship between Depthm and O2ml_L features.\n",
    "\n",
    "To find if there is a significant relationship between any of the predictors (Depthm, T_degC, Salnty, SiO3uM, Phaeop, NO2uM, and NH3uM) and the dissolved oxygen levels (O2ml_L), hypothesis test with ANOVA was used. From the results of the test it was observed that Depthm, T_degC, Salnty, SiO3uM, and Phaeop had very low p-values and NO2uM and NH3uM had p-values above significance level of 0.01. Since more than one variable which has significant relation with the response variable was present, there was significant evidence to reject the null hypothesis at the α = 0.01 level. So, it was seen that that at least one of the predictors (Depthm, T_degC, Salnty, SiO3uM, or Phaeop) is significantly associated with the response variable, O2ml_L. NO2uM and NH3uM do not significantly explain the variance in O2ml_L, as their p-values are greater than 0.01.\n",
    "\n",
    "To check for validity of Regression and ANOVA assumptions Diagnostic Analysis was performed. Various diagnostic plots were plotted to check for violations.\n",
    "\n",
    "1) Residuals Vs Fitted Plot\n",
    "\n",
    "   \n",
    "   \n",
    "   \n",
    "<img src=\"https://lh3.googleusercontent.com/drive-viewer/AKGpiha5CP-tDr5sZF9xbV9BtHUptX5-ROxkqvLNn2w-92iJmV-VPzRZU52K-esBnuI89sumUxK__mchN3n4nyhTqm2WmQEUAyTFoQ=s2560\" alt=\"Drawing\" style=\"width: 400px;\"/> \n",
    "\n",
    "\n",
    "\n",
    "\n",
    "\n",
    "\n",
    "From the above Residuals vs Fitted plot the presence of some outliers and also right towards the end of the plot there are many values which have a lower value compared to others. There is a clear visible downward spike, so the constant variance assumption has been violated here. \n",
    "\n",
    "2) Normal Q-Q Plot\n",
    "\n",
    "   \n",
    "   \n",
    "<img src=\"https://lh3.googleusercontent.com/drive-viewer/AKGpihb4PBotUxtbUQyGQaE5zvAoajwyDzspXUUzAao55IWk13cgeNXRQEZtse_BF-SIeGHO9xgOuMSOmORpzIPsdHQKO4_2I7_8-Ws=s2560\" alt=\"Drawing\" style=\"width: 400px;\"/> \n",
    "\n",
    "\n",
    "\n",
    "From the above Q-Q plot it is clearly seen that the points are not following a straight line, it can be seen that a lot of points at the top and tail deviate from the straight line. The presece of outliers is also evident. So, the assumption of normality has been violated.\n",
    "\n",
    "3) Scale and Location Plot\n",
    "   \n",
    "\n",
    "\n",
    "   \n",
    "\n",
    "<img src=\"https://lh3.googleusercontent.com/drive-viewer/AKGpihY9Et__vtfdMl8PtTRhhl_5UWmZg520uNri5LGHPg11gLKVioLCVQA8p84PklFvystqMJjaLpajoogon1d_vsYHH_cShllXGqI=s2560\" alt=\"Drawing\" style=\"width: 400px;\"/> \n",
    "\n",
    "\n",
    "\n",
    "\n",
    "\n",
    "From the above scale vs location plot it can be clearly seen that there is a presence of curvature, which shows that the assumption of linearity is violated.\n",
    "\n",
    "4) Residual and Leverage Plot\n",
    "\n",
    "   \n",
    "   \n",
    "<img src=\"https://lh3.googleusercontent.com/drive-viewer/AKGpihY9ZXoK5eK7rzx_WjOgXIuj5QbbiPj01fCIcvUrgUAn-0x5dUlRPUXmqwSmCATnNxzM-wYj7qybJZF-HlgnURcmAsJFfYdgziU=s2560\" alt=\"Drawing\" style=\"width: 400px;\"/>\n",
    "\n",
    "\n",
    "\n",
    "From the above residuals vs leverage plot it the presence of outliers which might be points that can influence the results is evident.\n",
    "\n",
    "The goodness of fit for the model was analysed with the summary statistics of the model. From the summary of the multiple linear regression model a high R-squared and Adjusted R-squared values both around 86% was found. This suggest a good fit, indicating that the model explains a substantial portion of the variance in O2ml_L. This result was further verified by plotting actual vs predicted graph.\n",
    "\n",
    "<img src=\"https://lh3.googleusercontent.com/drive-viewer/AKGpihY0bGv1amAhLxrE2XFc-CuZZdEu89Jj-HUR2II3ntStLGFcfdsQGrqG4oVyjyic64BUeqrgv4fu9R_DFYKkn2nViDRc47c3pLE=s2560\" alt=\"Drawing\" style=\"width: 400px;\"/>\n",
    "\n",
    "From the above actual vs predicted graph it can be said that the model is a good fit, but there could be an improvement, due to the presence of outliers and some dispersion present.\n",
    "\n",
    "To identify the most best predictive model, a combination of metrics (AIC, BIC, MSPE, R-squared, and adjusted R-squared) was considered. All of these metrics had almost similar results with models with 5,6 and 7 features.  A model with five predictors (Depthm, T_degC, Salnty, SiO3uM, Phaeop) was choosen as the best model for this analysis. This was due to the fact that less predictor make it simple to make predictions and\n",
    "BIC has choosen model 5 and having the lowest BIC, says us that Model 5 is preferable for balancing model fit and complexity. MSPE has choosen model 5, it suggests that additional predictors dont have an impact in improvement of the model. \n",
    "\n",
    "A summary of this five preictor model was revealed that all the features are very good predictors due to the presence of low p-values. The adjusted $R^2$ value of 86% remained same from initail model Finally diagnostics and collinearity tests were done to this five predictor model. It was observed that the diagnostics remained with simialar residual grpahs with violations in constant variance, normality and presence of outliers and violation of linearity. It was found that this five predictor model has no collinearity since all features had VIF values less than 5. \n",
    "\n",
    "**Conclusion**\n",
    "\n",
    "This analysis highlights the strong influence of environmental variables on oxygen concentration in sea water in the California Sea Coast. It was found that depth, temperature, salinity, silicate concentration, and phaeophytin concentration all emerged as significant predictors. The selected model provides a solid foundation for understanding oxygen variability as 86% of variance dissolved in oxygen levels is explained by the model. The diagnostics revealed various violations of assumptions. t-test and ANOVA further supported the importance of the selected predictors. A t-test confirmed a strong influence of depth on oxygen concentration. ANOVA indicated at least one predictor was significantly associated with oxygen. A further research could include finding the reasons behind the violations of assumptions of regression by the model. Various transformations can be tested with model to reduce the violations. Additional features like chlorophyll-a can be included and be teseted as predictors with the model."
   ]
  },
  {
   "cell_type": "code",
   "execution_count": null,
   "metadata": {},
   "outputs": [],
   "source": []
  }
 ],
 "metadata": {
  "colab": {
   "provenance": [],
   "toc_visible": true
  },
  "kernelspec": {
   "display_name": "R",
   "language": "R",
   "name": "ir"
  },
  "language_info": {
   "codemirror_mode": "r",
   "file_extension": ".r",
   "mimetype": "text/x-r-source",
   "name": "R",
   "pygments_lexer": "r",
   "version": "4.3.2"
  }
 },
 "nbformat": 4,
 "nbformat_minor": 4
}
